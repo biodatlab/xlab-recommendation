{
 "cells": [
  {
   "cell_type": "markdown",
   "metadata": {},
   "source": [
    "# LAB 2 : Collaborative Filtering on Last.fm Dataset"
   ]
  },
  {
   "cell_type": "markdown",
   "metadata": {},
   "source": [
    "[![Open in Colab](https://colab.research.google.com/assets/colab-badge.svg)](https://colab.research.google.com/github/biodatlab/xlab-recommendation/blob/main/inclass_notebooks/02_collaborative_filtering_lastfm.ipynb) \n",
    "\n",
    "In this lab, we use the Last.fm Dataset (https://www.last.fm/)  \\\n",
    "360K Users (http://ocelma.net/MusicRecommendationDataset/lastfm-360K.html) \\\n",
    "The dataset contains <user, artist, plays> tuples of 360,000 users.\\\n",
    "The data format of our database is: <em> user-mboxshal \\t musicbrainz-artist-id \\t artist-name \\t plays. </em>"
   ]
  },
  {
   "cell_type": "markdown",
   "metadata": {},
   "source": [
    "Install library"
   ]
  },
  {
   "cell_type": "code",
   "execution_count": null,
   "metadata": {},
   "outputs": [],
   "source": [
    "# !pip install pandas\n",
    "# !pip install numpy\n",
    "!pip install implicit\n",
    "!pip install gradio"
   ]
  },
  {
   "cell_type": "markdown",
   "metadata": {},
   "source": [
    "Using the implicit.datasets module to download last.fm locally"
   ]
  },
  {
   "cell_type": "code",
   "execution_count": null,
   "metadata": {},
   "outputs": [],
   "source": [
    "import pandas as pd\n",
    "import numpy as np\n",
    "from implicit.datasets.lastfm import get_lastfm\n",
    "\n",
    "# artists and users are the string arrays labeling each row and column of the artist_user_plays matrix\n",
    "\n",
    "# The artist_user_plays matrix is a scipy sparse matrix representing the number of times each artist was played by users, \n",
    "# each row represents different artists, and each column represents different users.\n",
    "\n",
    "artists, users, artist_user_plays = get_lastfm()\n",
    "print(artist_user_plays)"
   ]
  },
  {
   "cell_type": "markdown",
   "metadata": {},
   "source": [
    "Weight matrix before training a model \n",
    "- Reducing the impact of users who have played the same artist thousands of times.\n",
    "- Reducing the weight given to popular items\n"
   ]
  },
  {
   "cell_type": "code",
   "execution_count": null,
   "metadata": {},
   "outputs": [],
   "source": [
    "from implicit.nearest_neighbours import bm25_weight\n",
    "\n",
    "# TODO: Using implicit's BM25 ranking to weight the matrix with k1=100 and B=0.8\n",
    "artist_user = \n",
    "print(artist_user)"
   ]
  },
  {
   "cell_type": "markdown",
   "metadata": {},
   "source": [
    "Train an ALS model using implicit"
   ]
  },
  {
   "cell_type": "code",
   "execution_count": null,
   "metadata": {},
   "outputs": [],
   "source": [
    "from implicit.als import AlternatingLeastSquares\n",
    "\n",
    "# TODO: Using implicit's AlternatingLeastSquares to create a model\n",
    "model = \n",
    "\n",
    "# TODO: Transpose the matrix, convert it to a CSR matrix, and fit it with the previous model.\n",
    "# Implicit expect user-item (user-artist)\n",
    "user_artist = \n",
    "\n"
   ]
  },
  {
   "cell_type": "markdown",
   "metadata": {},
   "source": [
    "The result"
   ]
  },
  {
   "cell_type": "code",
   "execution_count": null,
   "metadata": {},
   "outputs": [],
   "source": [
    "import gradio as gr\n",
    "\n",
    "# TODO: Recommend top 10 musics to user (input as user ids) and display each music scores.\n",
    "def music_recommend(userid):\n",
    "    userid = int(userid)\n",
    "    ids, scores = \n",
    "    df = \n",
    "    return df\n",
    "\n",
    "\n",
    "demo = gr.Interface(\n",
    "    fn=music_recommend,\n",
    "    inputs=\"text\",\n",
    "    outputs=\"dataframe\",\n",
    ")\n",
    "demo.launch()\n"
   ]
  },
  {
   "cell_type": "code",
   "execution_count": null,
   "metadata": {},
   "outputs": [],
   "source": [
    "import gradio as gr\n",
    "\n",
    "# TODO: Show the top 10 artist similarities (input as artist names) and display the similarity scores for each artist.\n",
    "def music_similarity(artist_name):\n",
    "    itemid = list(artists).index(artist_name)\n",
    "    print(f\"Artist ID {itemid} : {artists[itemid]}\")\n",
    "    ids, scores = \n",
    "    df = \n",
    "    return df\n",
    "\n",
    "\n",
    "demo = gr.Interface(\n",
    "    fn=music_similarity,\n",
    "    inputs=\"text\",\n",
    "    outputs=\"dataframe\",\n",
    ")\n",
    "demo.launch()"
   ]
  }
 ],
 "metadata": {
  "kernelspec": {
   "display_name": "Python 3",
   "language": "python",
   "name": "python3"
  },
  "language_info": {
   "codemirror_mode": {
    "name": "ipython",
    "version": 3
   },
   "file_extension": ".py",
   "mimetype": "text/x-python",
   "name": "python",
   "nbconvert_exporter": "python",
   "pygments_lexer": "ipython3",
   "version": "3.9.6"
  },
  "orig_nbformat": 4
 },
 "nbformat": 4,
 "nbformat_minor": 2
}
