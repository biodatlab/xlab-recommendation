{
 "cells": [
  {
   "cell_type": "markdown",
   "metadata": {},
   "source": [
    "# Introduction to Sparse Matrix\n",
    "\n",
    "[![Open in Colab](https://colab.research.google.com/assets/colab-badge.svg)](https://colab.research.google.com/github/biodatlab/xlab-recommendation/blob/main/inclass_notebooks/00_intro_sparse_matrix.ipynb)\n",
    "\n",
    "biodatlab/xlab-recommendation/solution_notebooks/00_intro_sparse_matrix.ipynb\n",
    "\n",
    "The SciPy library offers many available functions to deal with sparse matrix types. \\\n",
    "In this introduction, we will focus on the following:\n",
    "\n",
    "1. coo_martix: COOridinate format\n",
    "1. csc_matrix: Compressed Sparse Column format\n",
    "2. csr_matrix: Compressed Sparse Row format"
   ]
  },
  {
   "cell_type": "code",
   "execution_count": null,
   "metadata": {},
   "outputs": [],
   "source": [
    "!pip install numpy\n",
    "!pip install scipy"
   ]
  },
  {
   "cell_type": "markdown",
   "metadata": {},
   "source": [
    "#### Sparse matrix in COOrdinate format\n",
    "This type of sparse matrix uses three subarrays to store the data values and coordinate positions."
   ]
  },
  {
   "cell_type": "code",
   "execution_count": 5,
   "metadata": {},
   "outputs": [
    {
     "name": "stdout",
     "output_type": "stream",
     "text": [
      "  (1, 1)\t2\n",
      "  (3, 4)\t5\n",
      "  (0, 2)\t9\n",
      "  (2, 3)\t1\n",
      "  (4, 3)\t6\n"
     ]
    },
    {
     "data": {
      "text/plain": [
       "matrix([[0, 0, 9, 0, 0],\n",
       "        [0, 2, 0, 0, 0],\n",
       "        [0, 0, 0, 1, 0],\n",
       "        [0, 0, 0, 0, 5],\n",
       "        [0, 0, 0, 6, 0]])"
      ]
     },
     "execution_count": 5,
     "metadata": {},
     "output_type": "execute_result"
    }
   ],
   "source": [
    "import numpy as np \n",
    "from scipy.sparse import coo_matrix\n",
    "\n",
    "row = np.array([1,3,0,2,4])\n",
    "col = np.array([1,4,2,3,3])\n",
    "data = np.array([2,5,9,1,6])\n",
    "\n",
    "X_coo = coo_matrix((data,(row,col)))\n",
    "print(X_coo)\n",
    "X_coo.todense()\n"
   ]
  },
  {
   "cell_type": "markdown",
   "metadata": {},
   "source": [
    "#### Sparse matrix in Compressed Sparse Column (CSC) format"
   ]
  },
  {
   "cell_type": "code",
   "execution_count": 6,
   "metadata": {},
   "outputs": [
    {
     "name": "stdout",
     "output_type": "stream",
     "text": [
      "  (1, 1)\t2\n",
      "  (0, 2)\t9\n",
      "  (2, 3)\t1\n",
      "  (4, 3)\t6\n",
      "  (3, 4)\t5\n"
     ]
    },
    {
     "data": {
      "text/plain": [
       "matrix([[0, 0, 9, 0, 0],\n",
       "        [0, 2, 0, 0, 0],\n",
       "        [0, 0, 0, 1, 0],\n",
       "        [0, 0, 0, 0, 5],\n",
       "        [0, 0, 0, 6, 0]], dtype=int32)"
      ]
     },
     "execution_count": 6,
     "metadata": {},
     "output_type": "execute_result"
    }
   ],
   "source": [
    "from scipy.sparse import csc_matrix\n",
    "\n",
    "X_csc = csc_matrix((data,(row,col)))\n",
    "print(X_csc)\n",
    "X_csc.todense()"
   ]
  },
  {
   "cell_type": "markdown",
   "metadata": {},
   "source": [
    "#### Sparse matrix in Compressed Sparse Row (CSR) format"
   ]
  },
  {
   "cell_type": "code",
   "execution_count": 7,
   "metadata": {},
   "outputs": [
    {
     "name": "stdout",
     "output_type": "stream",
     "text": [
      "  (0, 2)\t9\n",
      "  (1, 1)\t2\n",
      "  (2, 3)\t1\n",
      "  (3, 4)\t5\n",
      "  (4, 3)\t6\n"
     ]
    }
   ],
   "source": [
    "from scipy.sparse import csr_matrix\n",
    "\n",
    "X_csr = csr_matrix((data,(row,col)))\n",
    "print(X_csr)"
   ]
  }
 ],
 "metadata": {
  "kernelspec": {
   "display_name": "Python 3",
   "language": "python",
   "name": "python3"
  },
  "language_info": {
   "codemirror_mode": {
    "name": "ipython",
    "version": 3
   },
   "file_extension": ".py",
   "mimetype": "text/x-python",
   "name": "python",
   "nbconvert_exporter": "python",
   "pygments_lexer": "ipython3",
   "version": "3.9.6"
  },
  "orig_nbformat": 4
 },
 "nbformat": 4,
 "nbformat_minor": 2
}
