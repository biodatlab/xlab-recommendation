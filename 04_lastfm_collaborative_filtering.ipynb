{
 "cells": [
  {
   "cell_type": "markdown",
   "metadata": {},
   "source": [
    "# LAB 4 : Collaborative Filtering on Last.fm Dataset"
   ]
  },
  {
   "cell_type": "markdown",
   "metadata": {},
   "source": [
    "In this lab, we use the Last.fm Dataset (https://www.last.fm/)  - 360K Users (http://ocelma.net/MusicRecommendationDataset/lastfm-360K.html) \\\n",
    "The dataset contains <user, artist, plays> tuples of 360,000 users.\\\n",
    "The data format of our database is: <em> user-mboxshal \\t musicbrainz-artist-id \\t artist-name \\t plays. </em>\n",
    "\n",
    "Using the implicit.datasets module to download last.fm locally\n",
    "\n",
    "\n",
    "\n",
    "\n"
   ]
  },
  {
   "cell_type": "code",
   "execution_count": 5,
   "metadata": {},
   "outputs": [
    {
     "name": "stdout",
     "output_type": "stream",
     "text": [
      "[' 2 ' ' 58725ab=>' ' 80lİ yillarin tÜrkÇe sÖzlÜ aŞk Şarkilari'\n",
      " ' amy winehouse' ' cours de la somme' ' fatboy slim' ' kanye west'\n",
      " ' mala rodriguez' ' mohamed lamine' ' oliver shanti & friends']\n"
     ]
    }
   ],
   "source": [
    "import pandas as pd\n",
    "import numpy as np\n",
    "from implicit.datasets.lastfm import get_lastfm\n",
    "\n",
    "# artists and users are the string arrays labeling each row and column of the artist_user_plays matrix\n",
    "\n",
    "# The artist_user_plays matrix is a scipy sparse matrix representing the number of times each artist was played by users, \n",
    "# each row represents different artists, and each column represents different users.\n",
    "\n",
    "artists, users, artist_user_plays = get_lastfm()\n",
    "# print(artist_user_plays)\n",
    "print(artists[0:10])\n",
    "\n"
   ]
  },
  {
   "cell_type": "markdown",
   "metadata": {},
   "source": [
    "Weight matrix before training a model \n",
    "- Reducing the impact of users who have played the same artist thousands of times.\n",
    "- Reducing the weight given to popular items\n"
   ]
  },
  {
   "cell_type": "code",
   "execution_count": 3,
   "metadata": {},
   "outputs": [
    {
     "name": "stdout",
     "output_type": "stream",
     "text": [
      "  (0, 73470)\t464.12640081352487\n",
      "  (0, 97856)\t395.4254916528028\n",
      "  (0, 235382)\t917.7576795317125\n",
      "  (0, 266072)\t801.254668853217\n",
      "  (1, 171865)\t479.0537259553822\n",
      "  (2, 180892)\t701.6462524574976\n",
      "  (3, 285031)\t469.2366708878609\n",
      "  (4, 15103)\t274.6530366072618\n",
      "  (5, 81700)\t392.0203057167537\n",
      "  (6, 284057)\t624.2906299439671\n",
      "  (7, 335320)\t482.02241184218633\n",
      "  (8, 182831)\t763.8439378564416\n",
      "  (9, 12461)\t115.27320299060298\n",
      "  (10, 78717)\t79.93913331578632\n",
      "  (10, 149431)\t82.3790196718816\n",
      "  (10, 220512)\t80.7530809045117\n",
      "  (10, 261830)\t81.8842571288024\n",
      "  (10, 280610)\t80.1359339749864\n",
      "  (10, 297146)\t80.33706026790095\n",
      "  (11, 296825)\t764.3099590503471\n",
      "  (12, 332435)\t833.4437619557374\n",
      "  (13, 41075)\t510.69738868947763\n",
      "  (14, 298571)\t759.3034882234267\n",
      "  (15, 295693)\t791.1280662266632\n",
      "  (16, 185703)\t550.3715435013044\n",
      "  :\t:\n",
      "  (292364, 4775)\t178.0367505676167\n",
      "  (292365, 147943)\t970.515999738615\n",
      "  (292366, 95230)\t778.3288671797941\n",
      "  (292367, 56086)\t174.82443977973026\n",
      "  (292367, 137277)\t693.1595624862529\n",
      "  (292367, 287297)\t714.2549224050497\n",
      "  (292368, 294859)\t685.4388260783794\n",
      "  (292369, 308202)\t807.8389907410486\n",
      "  (292370, 42122)\t855.6262970733204\n",
      "  (292370, 263053)\t916.838398701158\n",
      "  (292370, 301225)\t195.2069894538584\n",
      "  (292371, 229732)\t119.2522080101646\n",
      "  (292372, 355627)\t837.8632263542605\n",
      "  (292373, 337693)\t838.3958739138181\n",
      "  (292374, 212855)\t617.1313148060917\n",
      "  (292375, 231253)\t751.1127830908332\n",
      "  (292376, 147738)\t226.76073605579924\n",
      "  (292377, 220443)\t784.6056741376278\n",
      "  (292378, 219957)\t43.02407577229206\n",
      "  (292379, 14949)\t657.6877045612146\n",
      "  (292380, 218794)\t488.48649640466624\n",
      "  (292381, 209453)\t714.2172798094573\n",
      "  (292382, 245468)\t824.2689749788672\n",
      "  (292383, 84262)\t753.7707508115707\n",
      "  (292384, 85674)\t723.7674987725694\n"
     ]
    }
   ],
   "source": [
    "from implicit.nearest_neighbours import bm25_weight\n",
    "\n",
    "artist_user = bm25_weight(artist_user_plays, K1=100, B=0.8)\n",
    "print(artist_user)"
   ]
  },
  {
   "cell_type": "markdown",
   "metadata": {},
   "source": [
    "Train an ALS model using implicit"
   ]
  },
  {
   "cell_type": "code",
   "execution_count": 4,
   "metadata": {},
   "outputs": [
    {
     "name": "stderr",
     "output_type": "stream",
     "text": [
      "100%|██████████| 15/15 [10:02<00:00, 40.15s/it]\n"
     ]
    }
   ],
   "source": [
    "from implicit.als import AlternatingLeastSquares\n",
    "\n",
    "model = AlternatingLeastSquares(factors=64, regularization=0.05, alpha=2.0)\n",
    "# Implicit expect user-item (user-artist)\n",
    "user_artist = artist_user.T.tocsr()\n",
    "\n",
    "model.fit(user_artist)"
   ]
  },
  {
   "cell_type": "markdown",
   "metadata": {},
   "source": [
    "The result"
   ]
  },
  {
   "cell_type": "code",
   "execution_count": 4,
   "metadata": {},
   "outputs": [],
   "source": [
    "# userid = 12345\n",
    "\n",
    "# ids, scores = model.recommend(userid, user_artist[userid], N=10, filter_already_liked_items=False)\n",
    "# # print(ids)\n",
    "# df = pd.DataFrame({\"artist\": artists[ids], \"score\": scores, \"already_liked\": np.in1d(ids, user_artist[userid].indices),})"
   ]
  },
  {
   "cell_type": "code",
   "execution_count": 15,
   "metadata": {},
   "outputs": [
    {
     "name": "stdout",
     "output_type": "stream",
     "text": [
      "Running on local URL:  http://127.0.0.1:7867\n",
      "\n",
      "To create a public link, set `share=True` in `launch()`.\n"
     ]
    },
    {
     "data": {
      "text/html": [
       "<div><iframe src=\"http://127.0.0.1:7867/\" width=\"100%\" height=\"500\" allow=\"autoplay; camera; microphone; clipboard-read; clipboard-write;\" frameborder=\"0\" allowfullscreen></iframe></div>"
      ],
      "text/plain": [
       "<IPython.core.display.HTML object>"
      ]
     },
     "metadata": {},
     "output_type": "display_data"
    },
    {
     "data": {
      "text/plain": []
     },
     "execution_count": 15,
     "metadata": {},
     "output_type": "execute_result"
    },
    {
     "name": "stdout",
     "output_type": "stream",
     "text": [
      "Artist ID 108605 : epik high\n",
      "Artist ID 246357 : super junior\n",
      "Artist ID 181675 : maroon 5\n"
     ]
    }
   ],
   "source": [
    "import gradio as gr\n",
    "\n",
    "def music_recommend(userid):\n",
    "    userid = int(userid)\n",
    "    ids, scores = model.recommend(userid, user_artist[userid], N=10, filter_already_liked_items=True)\n",
    "    df = pd.DataFrame({\"artist\": artists[ids], \"score\": scores})\n",
    "    return df\n",
    "\n",
    "\n",
    "demo = gr.Interface(\n",
    "    fn=music_recommend,\n",
    "    inputs=\"text\",\n",
    "    outputs=\"dataframe\",\n",
    ")\n",
    "demo.launch()\n"
   ]
  },
  {
   "cell_type": "code",
   "execution_count": 9,
   "metadata": {},
   "outputs": [
    {
     "name": "stdout",
     "output_type": "stream",
     "text": [
      "Artist ID 181675 : maroon 5\n"
     ]
    },
    {
     "data": {
      "text/html": [
       "<div>\n",
       "<style scoped>\n",
       "    .dataframe tbody tr th:only-of-type {\n",
       "        vertical-align: middle;\n",
       "    }\n",
       "\n",
       "    .dataframe tbody tr th {\n",
       "        vertical-align: top;\n",
       "    }\n",
       "\n",
       "    .dataframe thead th {\n",
       "        text-align: right;\n",
       "    }\n",
       "</style>\n",
       "<table border=\"1\" class=\"dataframe\">\n",
       "  <thead>\n",
       "    <tr style=\"text-align: right;\">\n",
       "      <th></th>\n",
       "      <th>artist</th>\n",
       "      <th>score</th>\n",
       "    </tr>\n",
       "  </thead>\n",
       "  <tbody>\n",
       "    <tr>\n",
       "      <th>0</th>\n",
       "      <td>maroon 5</td>\n",
       "      <td>1.000000</td>\n",
       "    </tr>\n",
       "    <tr>\n",
       "      <th>1</th>\n",
       "      <td>jason mraz</td>\n",
       "      <td>0.989504</td>\n",
       "    </tr>\n",
       "    <tr>\n",
       "      <th>2</th>\n",
       "      <td>the fray</td>\n",
       "      <td>0.988200</td>\n",
       "    </tr>\n",
       "    <tr>\n",
       "      <th>3</th>\n",
       "      <td>james blunt</td>\n",
       "      <td>0.988145</td>\n",
       "    </tr>\n",
       "    <tr>\n",
       "      <th>4</th>\n",
       "      <td>onerepublic</td>\n",
       "      <td>0.987358</td>\n",
       "    </tr>\n",
       "    <tr>\n",
       "      <th>5</th>\n",
       "      <td>black eyed peas</td>\n",
       "      <td>0.986483</td>\n",
       "    </tr>\n",
       "    <tr>\n",
       "      <th>6</th>\n",
       "      <td>justin timberlake</td>\n",
       "      <td>0.985625</td>\n",
       "    </tr>\n",
       "    <tr>\n",
       "      <th>7</th>\n",
       "      <td>keane</td>\n",
       "      <td>0.985596</td>\n",
       "    </tr>\n",
       "    <tr>\n",
       "      <th>8</th>\n",
       "      <td>coldplay</td>\n",
       "      <td>0.985125</td>\n",
       "    </tr>\n",
       "    <tr>\n",
       "      <th>9</th>\n",
       "      <td>mika</td>\n",
       "      <td>0.985000</td>\n",
       "    </tr>\n",
       "  </tbody>\n",
       "</table>\n",
       "</div>"
      ],
      "text/plain": [
       "              artist     score\n",
       "0           maroon 5  1.000000\n",
       "1         jason mraz  0.989504\n",
       "2           the fray  0.988200\n",
       "3        james blunt  0.988145\n",
       "4        onerepublic  0.987358\n",
       "5    black eyed peas  0.986483\n",
       "6  justin timberlake  0.985625\n",
       "7              keane  0.985596\n",
       "8           coldplay  0.985125\n",
       "9               mika  0.985000"
      ]
     },
     "execution_count": 9,
     "metadata": {},
     "output_type": "execute_result"
    }
   ],
   "source": [
    "# itemid = list(artists).index(\"maroon 5\")\n",
    "# print(f\"Artist ID {itemid} : {artists[itemid]}\")\n",
    "# ids, scores = model.similar_items(itemid)\n",
    "\n",
    "# # display the results using pandas for nicer formatting\n",
    "# pd.DataFrame({\"artist\": artists[ids], \"score\": scores})"
   ]
  },
  {
   "cell_type": "code",
   "execution_count": 14,
   "metadata": {},
   "outputs": [
    {
     "name": "stdout",
     "output_type": "stream",
     "text": [
      "Running on local URL:  http://127.0.0.1:7866\n",
      "\n",
      "To create a public link, set `share=True` in `launch()`.\n"
     ]
    },
    {
     "data": {
      "text/html": [
       "<div><iframe src=\"http://127.0.0.1:7866/\" width=\"100%\" height=\"500\" allow=\"autoplay; camera; microphone; clipboard-read; clipboard-write;\" frameborder=\"0\" allowfullscreen></iframe></div>"
      ],
      "text/plain": [
       "<IPython.core.display.HTML object>"
      ]
     },
     "metadata": {},
     "output_type": "display_data"
    },
    {
     "data": {
      "text/plain": []
     },
     "execution_count": 14,
     "metadata": {},
     "output_type": "execute_result"
    },
    {
     "name": "stderr",
     "output_type": "stream",
     "text": [
      "Traceback (most recent call last):\n",
      "  File \"c:\\Users\\K\\.pyenv\\pyenv-win\\versions\\3.9.6\\lib\\site-packages\\gradio\\routes.py\", line 516, in predict\n",
      "    output = await route_utils.call_process_api(\n",
      "  File \"c:\\Users\\K\\.pyenv\\pyenv-win\\versions\\3.9.6\\lib\\site-packages\\gradio\\route_utils.py\", line 219, in call_process_api\n",
      "    output = await app.get_blocks().process_api(\n",
      "  File \"c:\\Users\\K\\.pyenv\\pyenv-win\\versions\\3.9.6\\lib\\site-packages\\gradio\\blocks.py\", line 1437, in process_api\n",
      "    result = await self.call_function(\n",
      "  File \"c:\\Users\\K\\.pyenv\\pyenv-win\\versions\\3.9.6\\lib\\site-packages\\gradio\\blocks.py\", line 1109, in call_function\n",
      "    prediction = await anyio.to_thread.run_sync(\n",
      "  File \"c:\\Users\\K\\.pyenv\\pyenv-win\\versions\\3.9.6\\lib\\site-packages\\anyio\\to_thread.py\", line 33, in run_sync\n",
      "    return await get_asynclib().run_sync_in_worker_thread(\n",
      "  File \"c:\\Users\\K\\.pyenv\\pyenv-win\\versions\\3.9.6\\lib\\site-packages\\anyio\\_backends\\_asyncio.py\", line 877, in run_sync_in_worker_thread\n",
      "    return await future\n",
      "  File \"c:\\Users\\K\\.pyenv\\pyenv-win\\versions\\3.9.6\\lib\\site-packages\\anyio\\_backends\\_asyncio.py\", line 807, in run\n",
      "    result = context.run(func, *args)\n",
      "  File \"c:\\Users\\K\\.pyenv\\pyenv-win\\versions\\3.9.6\\lib\\site-packages\\gradio\\utils.py\", line 650, in wrapper\n",
      "    response = f(*args, **kwargs)\n",
      "  File \"C:\\Users\\K\\AppData\\Local\\Temp\\ipykernel_32288\\2206244019.py\", line 6, in music_similarity\n",
      "    itemid = list(artists).index(artist_name)\n",
      "ValueError: 'Maroon 5' is not in list\n"
     ]
    },
    {
     "name": "stdout",
     "output_type": "stream",
     "text": [
      "Artist ID 181675 : maroon 5\n",
      "Artist ID 108605 : epik high\n"
     ]
    }
   ],
   "source": [
    "import gradio as gr\n",
    "\n",
    "def music_similarity(artist_name):\n",
    "    itemid = list(artists).index(artist_name)\n",
    "    print(f\"Artist ID {itemid} : {artists[itemid]}\")\n",
    "    ids, scores = model.similar_items(itemid)\n",
    "    df = pd.DataFrame({\"artist\": artists[ids], \"score\": scores})\n",
    "    return df\n",
    "\n",
    "\n",
    "demo = gr.Interface(\n",
    "    fn=music_similarity,\n",
    "    inputs=\"text\",\n",
    "    outputs=\"dataframe\",\n",
    ")\n",
    "demo.launch()"
   ]
  }
 ],
 "metadata": {
  "kernelspec": {
   "display_name": "Python 3",
   "language": "python",
   "name": "python3"
  },
  "language_info": {
   "codemirror_mode": {
    "name": "ipython",
    "version": 3
   },
   "file_extension": ".py",
   "mimetype": "text/x-python",
   "name": "python",
   "nbconvert_exporter": "python",
   "pygments_lexer": "ipython3",
   "version": "3.9.6"
  },
  "orig_nbformat": 4
 },
 "nbformat": 4,
 "nbformat_minor": 2
}
