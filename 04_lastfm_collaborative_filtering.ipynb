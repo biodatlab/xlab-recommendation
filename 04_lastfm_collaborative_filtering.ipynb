{
 "cells": [
  {
   "cell_type": "markdown",
   "metadata": {},
   "source": [
    "# LAB 4 : Collaborative Filtering on Last.fm Dataset"
   ]
  },
  {
   "cell_type": "markdown",
   "metadata": {},
   "source": [
    "In this lab, we use the Last.fm Dataset (https://www.last.fm/)  - 360K Users (http://ocelma.net/MusicRecommendationDataset/lastfm-360K.html) \\\n",
    "The dataset contains <user, artist, plays> tuples of 360,000 users.\\\n",
    "The data format of our database is: <em> user-mboxshal \\t musicbrainz-artist-id \\t artist-name \\t plays. </em>\n",
    "\n",
    "Using the implicit.datasets module to download last.fm locally\n",
    "\n",
    "\n",
    "\n",
    "\n"
   ]
  },
  {
   "cell_type": "code",
   "execution_count": null,
   "metadata": {},
   "outputs": [],
   "source": [
    "import pandas as pd\n",
    "import numpy as np\n",
    "from implicit.datasets.lastfm import get_lastfm\n",
    "\n",
    "# artists and users are the string arrays labeling each row and column of the artist_user_plays matrix\n",
    "\n",
    "# The artist_user_plays matrix is a scipy sparse matrix representing the number of times each artist was played by users, \n",
    "# each row represents different artists, and each column represents different users.\n",
    "\n",
    "artists, users, artist_user_plays = get_lastfm()\n",
    "print(artist_user_plays)"
   ]
  },
  {
   "cell_type": "markdown",
   "metadata": {},
   "source": [
    "Weight matrix before training a model \n",
    "- Reducing the impact of users who have played the same artist thousands of times.\n",
    "- Reducing the weight given to popular items\n"
   ]
  },
  {
   "cell_type": "code",
   "execution_count": null,
   "metadata": {},
   "outputs": [],
   "source": [
    "from implicit.nearest_neighbours import bm25_weight\n",
    "\n",
    "artist_user = bm25_weight(artist_user_plays, K1=100, B=0.8)\n",
    "print(artist_user)"
   ]
  },
  {
   "cell_type": "markdown",
   "metadata": {},
   "source": [
    "Train an ALS model using implicit"
   ]
  },
  {
   "cell_type": "code",
   "execution_count": null,
   "metadata": {},
   "outputs": [],
   "source": [
    "from implicit.als import AlternatingLeastSquares\n",
    "\n",
    "model = AlternatingLeastSquares(factors=64, regularization=0.05, alpha=2.0)\n",
    "# Implicit expect user-item (user-artist)\n",
    "user_artist = artist_user.T.tocsr()\n",
    "\n",
    "model.fit(user_artist)"
   ]
  },
  {
   "cell_type": "markdown",
   "metadata": {},
   "source": [
    "The result"
   ]
  },
  {
   "cell_type": "code",
   "execution_count": null,
   "metadata": {},
   "outputs": [],
   "source": [
    "# userid = 12345\n",
    "\n",
    "# ids, scores = model.recommend(userid, user_artist[userid], N=10, filter_already_liked_items=False)\n",
    "# # print(ids)\n",
    "# df = pd.DataFrame({\"artist\": artists[ids], \"score\": scores, \"already_liked\": np.in1d(ids, user_artist[userid].indices),})"
   ]
  },
  {
   "cell_type": "code",
   "execution_count": null,
   "metadata": {},
   "outputs": [],
   "source": [
    "import gradio as gr\n",
    "\n",
    "def music_recommend(userid):\n",
    "    userid = int(userid)\n",
    "    ids, scores = model.recommend(userid, user_artist[userid], N=10, filter_already_liked_items=True)\n",
    "    df = pd.DataFrame({\"artist\": artists[ids], \"score\": scores})\n",
    "    return df\n",
    "\n",
    "\n",
    "demo = gr.Interface(\n",
    "    fn=music_recommend,\n",
    "    inputs=\"text\",\n",
    "    outputs=\"dataframe\",\n",
    ")\n",
    "demo.launch()\n"
   ]
  },
  {
   "cell_type": "code",
   "execution_count": null,
   "metadata": {},
   "outputs": [],
   "source": [
    "# itemid = list(artists).index(\"maroon 5\")\n",
    "# print(f\"Artist ID {itemid} : {artists[itemid]}\")\n",
    "# ids, scores = model.similar_items(itemid)\n",
    "\n",
    "# # display the results using pandas for nicer formatting\n",
    "# pd.DataFrame({\"artist\": artists[ids], \"score\": scores})"
   ]
  },
  {
   "cell_type": "code",
   "execution_count": null,
   "metadata": {},
   "outputs": [],
   "source": [
    "import gradio as gr\n",
    "\n",
    "def music_similarity(artist_name):\n",
    "    itemid = list(artists).index(artist_name)\n",
    "    print(f\"Artist ID {itemid} : {artists[itemid]}\")\n",
    "    ids, scores = model.similar_items(itemid)\n",
    "    df = pd.DataFrame({\"artist\": artists[ids], \"score\": scores})\n",
    "    return df\n",
    "\n",
    "\n",
    "demo = gr.Interface(\n",
    "    fn=music_similarity,\n",
    "    inputs=\"text\",\n",
    "    outputs=\"dataframe\",\n",
    ")\n",
    "demo.launch()"
   ]
  }
 ],
 "metadata": {
  "kernelspec": {
   "display_name": "Python 3",
   "language": "python",
   "name": "python3"
  },
  "language_info": {
   "codemirror_mode": {
    "name": "ipython",
    "version": 3
   },
   "file_extension": ".py",
   "mimetype": "text/x-python",
   "name": "python",
   "nbconvert_exporter": "python",
   "pygments_lexer": "ipython3",
   "version": "3.9.6"
  },
  "orig_nbformat": 4
 },
 "nbformat": 4,
 "nbformat_minor": 2
}
