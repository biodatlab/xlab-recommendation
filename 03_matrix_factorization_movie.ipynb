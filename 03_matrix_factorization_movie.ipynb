{
 "cells": [
  {
   "cell_type": "markdown",
   "metadata": {},
   "source": [
    "# Lab 3 : Matrix factorization\n",
    "\n",
    "[![Open in Colab](https://colab.research.google.com/assets/colab-badge.svg)](https://colab.research.google.com/github/biodatlab/xlab-recommendation/blob/notebook/03_matrix_factorization_movie.ipynb)\n",
    "\n",
    "* Dataset: https://grouplens.org/datasets/movielens/latest/\n",
    "  * สามารถ download dataset เองตรงๆได้จาก link ด้านบน แล้วเปลี่ยน `rating_path` และ `movies_path` ตามที่อยู่ของไฟล์ได้\n",
    "  * ใน notebook นี้จะทำการ download dataset ที่ฝากไว้ใน google drive ด้วย `gdown`\n",
    "* Objectives\n",
    "  * แนะนำหนังใหม่ที่ user ไม่เคยดู จากหนังที่ user เคยให้คะแนน (rating)\n",
    "* Notes\n",
    "  * scikit-learn Non-Negative Matrix Factorization: https://scikit-learn.org/stable/modules/generated/sklearn.decomposition.NMF.html\n",
    "  * scipy sparse matrix: https://docs.scipy.org/doc/scipy/reference/generated/scipy.sparse.csr_matrix.html\n",
    "  * pandas Categorical: https://pandas.pydata.org/docs/reference/api/pandas.Categorical.html\n",
    "  * gradio interface: https://www.gradio.app/docs/interface\n",
    "  * gdown: "
   ]
  },
  {
   "cell_type": "markdown",
   "metadata": {},
   "source": [
    "## 0. Install Essential Libraries"
   ]
  },
  {
   "cell_type": "code",
   "execution_count": null,
   "metadata": {},
   "outputs": [],
   "source": [
    "! pip install pandas\n",
    "! pip install numpy\n",
    "! pip install scikit-learn\n",
    "! pip install scipy\n",
    "! pip install gradio\n",
    "! pip install gdown"
   ]
  },
  {
   "cell_type": "markdown",
   "metadata": {},
   "source": [
    "## 1. Data Preparation"
   ]
  },
  {
   "cell_type": "code",
   "execution_count": null,
   "metadata": {},
   "outputs": [],
   "source": [
    "# import essential library\n",
    "\n",
    "import os\n",
    "import os.path as op\n",
    "\n",
    "import numpy as np\n",
    "import pandas as pd\n",
    "from sklearn.decomposition import NMF\n",
    "from scipy.sparse import csr_matrix"
   ]
  },
  {
   "cell_type": "code",
   "execution_count": null,
   "metadata": {},
   "outputs": [],
   "source": [
    "# load dataset from drive\n",
    "\n",
    "import gdown\n",
    "\n",
    "url = \"https://drive.google.com/drive/folders/1dtGM-kA_3ylXZntgWv1xMUSVlZhSW5jy?usp=sharing\"\n",
    "gdown.download_folder(url, use_cookies=False)"
   ]
  },
  {
   "cell_type": "code",
   "execution_count": 59,
   "metadata": {},
   "outputs": [],
   "source": [
    "# read dataset\n",
    "\n",
    "rating_path = op.join(os.getcwd(),\"movielens-latest-dataset/ratings.csv\")\n",
    "movies_path = op.join(os.getcwd(),\"movielens-latest-dataset/movies.csv\")\n",
    "\n",
    "rating_df = pd.read_csv(\n",
    "    ratingFile_path,\n",
    "    usecols=[\"userId\", \"movieId\", \"rating\"],\n",
    "    dtype={\"userId\": str, \"movieId\": str},\n",
    ")\n",
    "movies_df = pd.read_csv(\n",
    "    moviesFile_path,\n",
    "    usecols=[\"movieId\", \"title\", \"genres\"],\n",
    "    dtype={\"movieId\": str, \"title\": str},\n",
    ")"
   ]
  },
  {
   "cell_type": "code",
   "execution_count": 60,
   "metadata": {},
   "outputs": [
    {
     "name": "stdout",
     "output_type": "stream",
     "text": [
      "   userId  movieId  rating   timestamp\n",
      "0       1       31     2.5  1260759144\n",
      "1       1     1029     3.0  1260759179\n",
      "2       1     1061     3.0  1260759182\n",
      "3       1     1129     2.0  1260759185\n",
      "4       1     1172     4.0  1260759205\n"
     ]
    }
   ],
   "source": [
    "# check rating dataframe\n",
    "rating_df.head()"
   ]
  },
  {
   "cell_type": "code",
   "execution_count": 62,
   "metadata": {},
   "outputs": [],
   "source": [
    "# check movies dataframe\n",
    "movies_df.head()"
   ]
  },
  {
   "cell_type": "code",
   "execution_count": null,
   "metadata": {},
   "outputs": [],
   "source": [
    "# check number of users\n",
    "rating_df[\"userId\"].nunique()"
   ]
  },
  {
   "cell_type": "code",
   "execution_count": null,
   "metadata": {},
   "outputs": [],
   "source": [
    "# merge title and genres from movies df for visualization\n",
    "\n",
    "rating_df = rating_df.merge(movies_df, how='inner', on =\"movieId\")"
   ]
  },
  {
   "cell_type": "code",
   "execution_count": null,
   "metadata": {},
   "outputs": [],
   "source": [
    "# visualize merged dataframe\n",
    "\n",
    "rating_df.head()"
   ]
  },
  {
   "cell_type": "code",
   "execution_count": null,
   "metadata": {},
   "outputs": [],
   "source": [
    "# change userId and movieId into categorical codes for sparse matrix\n",
    "\n",
    "rating_df[\"rating\"] = rating_df[\"rating\"].astype(float)\n",
    "\n",
    "rating_df[\"userId\"] = rating_df[\"userId\"].astype(\"category\")\n",
    "\n",
    "rating_df[\"movieId\"] = rating_df[\"movieId\"].astype(\"category\")"
   ]
  },
  {
   "cell_type": "code",
   "execution_count": null,
   "metadata": {},
   "outputs": [],
   "source": [
    "# create sparse matrix\n",
    "\n",
    "X_rating = csr_matrix(\n",
    "    (\n",
    "        rating_df[\"rating\"].astype(float),\n",
    "        (rating_df[\"userId\"].cat.codes, rating_df[\"movieId\"].cat.codes),\n",
    "    )\n",
    ")\n",
    "\n",
    "X_rating = X_rating.tocsr()"
   ]
  },
  {
   "cell_type": "markdown",
   "metadata": {},
   "source": [
    "## 2: Matrix Factorization"
   ]
  },
  {
   "cell_type": "code",
   "execution_count": null,
   "metadata": {},
   "outputs": [],
   "source": [
    "# Create NMF Model\n",
    "model = NMF(n_components=10, init=\"nndsvd\", verbose=1)\n",
    "\n",
    "W = model.fit_transform(X_rating)\n",
    "H = model.components_\n",
    "H = np.array(H)\n",
    "W = np.array(W)"
   ]
  },
  {
   "cell_type": "code",
   "execution_count": null,
   "metadata": {},
   "outputs": [],
   "source": [
    "# select one user for testing\n",
    "\n",
    "selected_user_id = '21'\n",
    "selected_user_df = rating_df[rating_df[\"userId\"] == selected_user_id]\n",
    "selected_user_df.sort_values(by=\"rating\",ascending=False)"
   ]
  },
  {
   "cell_type": "code",
   "execution_count": 76,
   "metadata": {},
   "outputs": [],
   "source": [
    "# Reconstruct user-item matrix from selected user features\n",
    "predicted_rating = np.dot(W[selected_user_df[\"userId\"].cat.codes.values[0]],H)"
   ]
  },
  {
   "cell_type": "code",
   "execution_count": null,
   "metadata": {},
   "outputs": [],
   "source": [
    "# get sorted index from predicted rating (low -> high)\n",
    "\n",
    "sort_rating_index = np.argsort(predicted_rating)\n",
    "\n",
    "# flip sorted index (high -> low)\n",
    "\n",
    "sort_rating_index = np.flip(sort_rating_index)"
   ]
  },
  {
   "cell_type": "code",
   "execution_count": null,
   "metadata": {},
   "outputs": [],
   "source": [
    "# select only top k movies\n",
    "\n",
    "k = 20\n",
    "selected_movie_cat_code = sort_rating_index[:k]\n",
    "selected_predict_rating = predicted_rating[selected_movie_cat_code]\n",
    "\n",
    "# get movieId from categorical codes\n",
    "\n",
    "rec_movie_id = pd.Categorical.from_codes(selected_movie_cat_code, categories=rating_df[\"movieId\"].cat.categories)"
   ]
  },
  {
   "cell_type": "code",
   "execution_count": null,
   "metadata": {},
   "outputs": [],
   "source": [
    "# create recommendation dataframe for visualize\n",
    "\n",
    "rec_df = pd.DataFrame({\n",
    "    \"movieId\": rec_movie_id,\n",
    "    \"predicted rating\": selected_predict_rating,\n",
    "})\n",
    "\n",
    "rec_df = rec_df.merge(movies_df, how='inner', on='movieId')"
   ]
  },
  {
   "cell_type": "code",
   "execution_count": null,
   "metadata": {},
   "outputs": [],
   "source": [
    "rec_df.head()"
   ]
  },
  {
   "cell_type": "code",
   "execution_count": null,
   "metadata": {},
   "outputs": [],
   "source": [
    "# interactive application input userId -> show previous ratings, recommend new movies\n",
    "\n",
    "import gradio as gr\n",
    "\n",
    "def recommend_movie(user_id):\n",
    "\n",
    "    if (rating_df[\"userId\"] == user_id).any():\n",
    "        selected_user_df = rating_df[rating_df[\"userId\"] == user_id].sort_values(by=\"rating\",ascending=False)\n",
    "\n",
    "        predicted_rating = np.dot(W[selected_user_df[\"userId\"].cat.codes.values[0]],H)\n",
    "        sort_rating_cat_code = np.flip(np.argsort(predicted_rating))[:20]\n",
    "        selected_predict_rating = predicted_rating[sort_rating_cat_code]\n",
    "\n",
    "        rec_movie_id = pd.Categorical.from_codes(sort_rating_cat_code, categories=rating_df[\"movieId\"].cat.categories)\n",
    "        \n",
    "        rec_df = pd.DataFrame({\n",
    "            \"movieId\": rec_movie_id,\n",
    "            \"predicted rating\": selected_predict_rating,\n",
    "        })\n",
    "        rec_df = rec_df.merge(movies_df, how='inner', on='movieId')\n",
    "\n",
    "        return selected_user_df.head(10),rec_df.head(10)\n",
    "\n",
    "    else:\n",
    "        raise gr.Error(\"User id not found\")\n",
    "\n",
    "\n",
    "demo = gr.Interface(\n",
    "    fn=recommend_movie,\n",
    "    inputs=\"text\",\n",
    "    outputs=[gr.DataFrame(label=\"Previous rate\"),gr.DataFrame(label=\"Recommend\")],\n",
    "    examples=['21','50']\n",
    ")\n",
    "\n",
    "demo.launch()"
   ]
  }
 ],
 "metadata": {
  "kernelspec": {
   "display_name": "LAB1-XXQFwi6-",
   "language": "python",
   "name": "python3"
  },
  "language_info": {
   "codemirror_mode": {
    "name": "ipython",
    "version": 3
   },
   "file_extension": ".py",
   "mimetype": "text/x-python",
   "name": "python",
   "nbconvert_exporter": "python",
   "pygments_lexer": "ipython3",
   "version": "3.10.8"
  },
  "orig_nbformat": 4
 },
 "nbformat": 4,
 "nbformat_minor": 2
}
