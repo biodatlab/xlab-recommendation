{
 "cells": [
  {
   "cell_type": "markdown",
   "metadata": {},
   "source": [
    "# Lab 3 : Matrix factorization\n",
    "\n",
    "[![Open in Colab](https://colab.research.google.com/assets/colab-badge.svg)](https://colab.research.google.com/github/biodatlab/xlab-recommendation/blob/notebook/03_matrix_factorization_movie.ipynb)\n",
    "\n",
    "* Dataset: https://grouplens.org/datasets/movielens/latest/\n",
    "  * สามารถ download dataset เองตรงๆได้จาก link ด้านบน แล้วเปลี่ยน `rating_path` และ `movies_path` ตามที่อยู่ของไฟล์ได้\n",
    "  * ใน notebook นี้จะทำการ download dataset ที่ฝากไว้ใน google drive ด้วย `gdown`\n",
    "* Objectives\n",
    "  * แนะนำหนังใหม่ที่ user ไม่เคยดู จากหนังที่ user เคยให้คะแนน (rating)\n",
    "* Notes\n",
    "  * scikit-learn Non-Negative Matrix Factorization: https://scikit-learn.org/stable/modules/generated/sklearn.decomposition.NMF.html\n",
    "  * scipy sparse matrix: https://docs.scipy.org/doc/scipy/reference/generated/scipy.sparse.csr_matrix.html\n",
    "  * pandas Categorical: https://pandas.pydata.org/docs/reference/api/pandas.Categorical.html\n",
    "  * gradio interface: https://www.gradio.app/docs/interface\n",
    "  * gdown: "
   ]
  },
  {
   "cell_type": "markdown",
   "metadata": {},
   "source": [
    "## 0. Install Essential Libraries"
   ]
  },
  {
   "cell_type": "code",
   "execution_count": null,
   "metadata": {},
   "outputs": [],
   "source": [
    "! pip install pandas\n",
    "! pip install numpy\n",
    "! pip install scikit-learn\n",
    "! pip install scipy\n",
    "! pip install gradio\n",
    "! pip install gdown"
   ]
  },
  {
   "cell_type": "markdown",
   "metadata": {},
   "source": [
    "## 1. Data Preparation"
   ]
  },
  {
   "cell_type": "code",
   "execution_count": null,
   "metadata": {},
   "outputs": [],
   "source": [
    "# import essential library\n",
    "\n",
    "import os\n",
    "import os.path as op\n",
    "\n",
    "import numpy as np\n",
    "import pandas as pd\n",
    "from sklearn.decomposition import NMF\n",
    "from scipy.sparse import csr_matrix"
   ]
  },
  {
   "cell_type": "code",
   "execution_count": 59,
   "metadata": {},
   "outputs": [],
   "source": [
    "# read dataset\n",
    "\n",
    "rating_path = op.join(os.getcwd(),\"movielens-latest-dataset/ratings.csv\")\n",
    "movies_path = op.join(os.getcwd(),\"movielens-latest-dataset/movies.csv\")\n",
    "\n",
    "rating_df = pd.read_csv(\n",
    "    ratingFile_path,\n",
    "    usecols=[\"userId\", \"movieId\", \"rating\"],\n",
    "    dtype={\"userId\": str, \"movieId\": str},\n",
    ")\n",
    "movies_df = pd.read_csv(\n",
    "    moviesFile_path,\n",
    "    usecols=[\"movieId\", \"title\", \"genres\"],\n",
    "    dtype={\"movieId\": str, \"title\": str},\n",
    ")"
   ]
  },
  {
   "cell_type": "code",
   "execution_count": 60,
   "metadata": {},
   "outputs": [
    {
     "name": "stdout",
     "output_type": "stream",
     "text": [
      "   userId  movieId  rating   timestamp\n",
      "0       1       31     2.5  1260759144\n",
      "1       1     1029     3.0  1260759179\n",
      "2       1     1061     3.0  1260759182\n",
      "3       1     1129     2.0  1260759185\n",
      "4       1     1172     4.0  1260759205\n"
     ]
    }
   ],
   "source": [
    "# check rating dataframe\n",
    "rating_df.head()"
   ]
  },
  {
   "cell_type": "code",
   "execution_count": 62,
   "metadata": {},
   "outputs": [],
   "source": [
    "# check movies dataframe\n",
    "movies_df.head()"
   ]
  },
  {
   "cell_type": "code",
   "execution_count": null,
   "metadata": {},
   "outputs": [],
   "source": [
    "# check number of users\n",
    "rating_df[\"userId\"].nunique()"
   ]
  },
  {
   "cell_type": "code",
   "execution_count": null,
   "metadata": {},
   "outputs": [],
   "source": [
    "# merge title and genres from movies df for visualization\n",
    "\n",
    "rating_df = rating_df.merge(movies_df, how='inner', on =\"movieId\")"
   ]
  },
  {
   "cell_type": "code",
   "execution_count": null,
   "metadata": {},
   "outputs": [],
   "source": [
    "# visualize merged dataframe\n",
    "\n",
    "rating_df.head()"
   ]
  },
  {
   "cell_type": "code",
   "execution_count": null,
   "metadata": {},
   "outputs": [],
   "source": [
    "# change userId and movieId into categorical codes for sparse matrix\n",
    "\n",
    "rating_df[\"rating\"] = rating_df[\"rating\"].astype(float)\n",
    "\n",
    "rating_df[\"userId\"] = rating_df[\"userId\"].astype(\"category\")\n",
    "\n",
    "rating_df[\"movieId\"] = rating_df[\"movieId\"].astype(\"category\")"
   ]
  },
  {
   "cell_type": "code",
   "execution_count": null,
   "metadata": {},
   "outputs": [],
   "source": [
    "# create sparse matrix\n",
    "\n",
    "X_rating = csr_matrix(\n",
    "    (\n",
    "        rating_df[\"rating\"].astype(float),\n",
    "        (rating_df[\"userId\"].cat.codes, rating_df[\"movieId\"].cat.codes),\n",
    "    )\n",
    ")\n",
    "\n",
    "X_rating = X_rating.tocsr()"
   ]
  },
  {
   "cell_type": "markdown",
   "metadata": {},
   "source": [
    "## 2: Matrix Factorization"
   ]
  },
  {
   "cell_type": "code",
   "execution_count": 75,
   "metadata": {},
   "outputs": [
    {
     "name": "stdout",
     "output_type": "stream",
     "text": [
      "violation: 1.0\n",
      "violation: 0.42023927286756035\n",
      "violation: 0.303715252036656\n",
      "violation: 0.24641535211577947\n",
      "violation: 0.1869818092075027\n",
      "violation: 0.13837329978454047\n",
      "violation: 0.10487201351746561\n",
      "violation: 0.07717034261725361\n",
      "violation: 0.05904759750658854\n",
      "violation: 0.04639317511373741\n",
      "violation: 0.03799827603930103\n",
      "violation: 0.03237237275209585\n",
      "violation: 0.02845517387590574\n",
      "violation: 0.025607087266813804\n",
      "violation: 0.023311634332723135\n",
      "violation: 0.021237497821358635\n",
      "violation: 0.019836698553808846\n",
      "violation: 0.01888104498043895\n",
      "violation: 0.01822748585642966\n",
      "violation: 0.017803321812732777\n",
      "violation: 0.017573867966211347\n",
      "violation: 0.01746221526432797\n",
      "violation: 0.017478190333430055\n",
      "violation: 0.0176090227358483\n",
      "violation: 0.017748260532815346\n",
      "violation: 0.01785863181985616\n",
      "violation: 0.017815129825321636\n",
      "violation: 0.01794623008809865\n",
      "violation: 0.017535771854682403\n",
      "violation: 0.017283100430082108\n",
      "violation: 0.01716834929985142\n",
      "violation: 0.017066235124112775\n",
      "violation: 0.016894470781901653\n",
      "violation: 0.01671497768091816\n",
      "violation: 0.016451190214205866\n",
      "violation: 0.016194448327835235\n",
      "violation: 0.015908356398462255\n",
      "violation: 0.015636275028601935\n",
      "violation: 0.01534762934752091\n",
      "violation: 0.015093838056703378\n",
      "violation: 0.0148692305748525\n",
      "violation: 0.014585619472574075\n",
      "violation: 0.014378625871615414\n",
      "violation: 0.014294624791348513\n",
      "violation: 0.014294305972522394\n",
      "violation: 0.014329249254764321\n",
      "violation: 0.014474732675239984\n",
      "violation: 0.014661590781133186\n",
      "violation: 0.014888346392174933\n",
      "violation: 0.015139651322716597\n",
      "violation: 0.015344863871414958\n",
      "violation: 0.015527497471455064\n",
      "violation: 0.015641877420769862\n",
      "violation: 0.01569743806907668\n",
      "violation: 0.015628384942906408\n",
      "violation: 0.015564331399706862\n",
      "violation: 0.01536973937213486\n",
      "violation: 0.015045599284661313\n",
      "violation: 0.01463192671174194\n",
      "violation: 0.014079426056707634\n",
      "violation: 0.01333288355399536\n",
      "violation: 0.012159933958993412\n",
      "violation: 0.01109657829862806\n",
      "violation: 0.010100585313053183\n",
      "violation: 0.009215136698279829\n",
      "violation: 0.008422185200515611\n",
      "violation: 0.007720382186862124\n",
      "violation: 0.00710918372241213\n",
      "violation: 0.006577832139713869\n",
      "violation: 0.006106291619565294\n",
      "violation: 0.00568887896318865\n",
      "violation: 0.005280753123907422\n",
      "violation: 0.004947612989052866\n",
      "violation: 0.004634168984981916\n",
      "violation: 0.004351163833267712\n",
      "violation: 0.004092269685271254\n",
      "violation: 0.003878299113042204\n",
      "violation: 0.0036768295709978887\n",
      "violation: 0.00349291069342324\n",
      "violation: 0.003327834883147636\n",
      "violation: 0.0031780859186139395\n",
      "violation: 0.0030394299587607827\n",
      "violation: 0.002910676004801825\n",
      "violation: 0.0027763571959532624\n",
      "violation: 0.002654575117281186\n",
      "violation: 0.002527214045733466\n",
      "violation: 0.0024088464893461947\n",
      "violation: 0.0022973271680030534\n",
      "violation: 0.0021924749104391627\n",
      "violation: 0.00209181420928109\n",
      "violation: 0.0019918690968455813\n",
      "violation: 0.0018973075899910892\n",
      "violation: 0.0018081501672871031\n",
      "violation: 0.0017240727054139533\n",
      "violation: 0.001646041663091632\n",
      "violation: 0.0015695127666215697\n",
      "violation: 0.0014964652410252768\n",
      "violation: 0.0014258084765612364\n",
      "violation: 0.001360647852824748\n",
      "violation: 0.0012979089086244135\n",
      "violation: 0.001237219264898796\n",
      "violation: 0.001180675757012642\n",
      "violation: 0.0011267784019268457\n",
      "violation: 0.0010755398921873623\n",
      "violation: 0.0010267862979699083\n",
      "violation: 0.0009805512857038276\n",
      "violation: 0.000936020822640248\n",
      "violation: 0.0008927526244913516\n",
      "violation: 0.0008519426830989996\n",
      "violation: 0.0008129808796373214\n",
      "violation: 0.0007758176868993563\n",
      "violation: 0.0007396104712411719\n",
      "violation: 0.0007053207284483912\n",
      "violation: 0.0006730577588597727\n",
      "violation: 0.000642405965782145\n",
      "violation: 0.0006135040890894298\n",
      "violation: 0.0005860704077060281\n",
      "violation: 0.0005601467070145582\n",
      "violation: 0.0005355345939743334\n",
      "violation: 0.0005121279549725278\n",
      "violation: 0.0004897357278317995\n",
      "violation: 0.00046776100673211977\n",
      "violation: 0.00044708083929376376\n",
      "violation: 0.00042723448826969494\n",
      "violation: 0.0004081625355737153\n",
      "violation: 0.0003899568141915358\n",
      "violation: 0.00037260278112272806\n",
      "violation: 0.00035620986148944555\n",
      "violation: 0.000340450124294639\n",
      "violation: 0.00032550286209671\n",
      "violation: 0.000311072785176326\n",
      "violation: 0.0002972996878057492\n",
      "violation: 0.00028374658526448437\n",
      "violation: 0.00027083735454314594\n",
      "violation: 0.00025846410596510726\n",
      "violation: 0.0002466617625004971\n",
      "violation: 0.00023541577648374587\n",
      "violation: 0.00022468124280636\n",
      "violation: 0.00021441892627130317\n",
      "violation: 0.0002046115489908563\n",
      "violation: 0.00019524990390441186\n",
      "violation: 0.00018632222225961056\n",
      "violation: 0.0001778052656424686\n",
      "violation: 0.000169681646650634\n",
      "violation: 0.0001619483301421974\n",
      "violation: 0.00015455258972466672\n",
      "violation: 0.0001474971163132818\n",
      "violation: 0.0001407657799102965\n",
      "violation: 0.00013435164450790527\n",
      "violation: 0.00012824043348020245\n",
      "violation: 0.00012240841428587943\n",
      "violation: 0.00011683009862091095\n",
      "violation: 0.00011151126011222723\n",
      "violation: 0.00010643698539822415\n",
      "violation: 0.00010159009485752202\n",
      "violation: 9.696400099607916e-05\n",
      "Converged at iteration 157\n"
     ]
    }
   ],
   "source": [
    "# Create NMF Model\n",
    "model = NMF(n_components=10, init=\"nndsvd\", verbose=1)\n",
    "\n",
    "W = model.fit_transform(X_rating)\n",
    "H = model.components_\n",
    "H = np.array(H)\n",
    "W = np.array(W)"
   ]
  },
  {
   "cell_type": "code",
   "execution_count": null,
   "metadata": {},
   "outputs": [],
   "source": [
    "# select one user for testing\n",
    "\n",
    "selected_user_id = '21'\n",
    "selected_user_df = rating_df[rating_df[\"userId\"] == selected_user_id]\n",
    "selected_user_df.sort_values(by=\"rating\",ascending=False)"
   ]
  },
  {
   "cell_type": "code",
   "execution_count": 76,
   "metadata": {},
   "outputs": [],
   "source": [
    "# Reconstruct user-item matrix from selected user features\n",
    "predicted_rating = np.dot(W[selected_user_df[\"userId\"].cat.codes.values[0]],H)"
   ]
  },
  {
   "cell_type": "code",
   "execution_count": null,
   "metadata": {},
   "outputs": [],
   "source": [
    "# get sorted index from predicted rating (low -> high)\n",
    "\n",
    "sort_rating_index = np.argsort(predicted_rating)\n",
    "\n",
    "# flip sorted index (high -> low)\n",
    "\n",
    "sort_rating_index = np.flip(sort_rating_index)"
   ]
  },
  {
   "cell_type": "code",
   "execution_count": null,
   "metadata": {},
   "outputs": [],
   "source": [
    "# select only top k movies\n",
    "\n",
    "k = 20\n",
    "selected_movie_cat_code = sort_rating_index[:k]\n",
    "selected_predict_rating = predicted_rating[selected_movie_cat_code]\n",
    "\n",
    "# get movieId from categorical codes\n",
    "\n",
    "rec_movie_id = pd.Categorical.from_codes(selected_movie_cat_code, categories=rating_df[\"movieId\"].cat.categories)"
   ]
  },
  {
   "cell_type": "code",
   "execution_count": null,
   "metadata": {},
   "outputs": [],
   "source": [
    "# create recommendation dataframe for visualize\n",
    "\n",
    "rec_df = pd.DataFrame({\n",
    "    \"movieId\": rec_movie_id,\n",
    "    \"predicted rating\": selected_predict_rating,\n",
    "})\n",
    "\n",
    "rec_df = rec_df.merge(movies_df, how='inner', on='movieId')"
   ]
  },
  {
   "cell_type": "code",
   "execution_count": null,
   "metadata": {},
   "outputs": [],
   "source": [
    "rec_df.head()"
   ]
  },
  {
   "cell_type": "code",
   "execution_count": null,
   "metadata": {},
   "outputs": [],
   "source": [
    "# interactive application input userId -> show previous ratings, recommend new movies\n",
    "\n",
    "import gradio as gr\n",
    "\n",
    "def recommend_movie(user_id):\n",
    "\n",
    "    if (rating_df[\"userId\"] == user_id).any():\n",
    "        selected_user_df = rating_df[rating_df[\"userId\"] == user_id].sort_values(by=\"rating\",ascending=False)\n",
    "\n",
    "        predicted_rating = np.dot(W[selected_user_df[\"userId\"].cat.codes.values[0]],H)\n",
    "        sort_rating_cat_code = np.flip(np.argsort(predicted_rating))[:20]\n",
    "        selected_predict_rating = predicted_rating[sort_rating_cat_code]\n",
    "\n",
    "        rec_movie_id = pd.Categorical.from_codes(sort_rating_cat_code, categories=rating_df[\"movieId\"].cat.categories)\n",
    "        \n",
    "        rec_df = pd.DataFrame({\n",
    "            \"movieId\": rec_movie_id,\n",
    "            \"predicted rating\": selected_predict_rating,\n",
    "        })\n",
    "        rec_df = rec_df.merge(movies_df, how='inner', on='movieId')\n",
    "\n",
    "        return selected_user_df.head(10),rec_df.head(10)\n",
    "\n",
    "    else:\n",
    "        raise gr.Error(\"User id not found\")\n",
    "\n",
    "\n",
    "demo = gr.Interface(\n",
    "    fn=recommend_movie,\n",
    "    inputs=\"text\",\n",
    "    outputs=[gr.DataFrame(label=\"Previous rate\"),gr.DataFrame(label=\"Recommend\")],\n",
    "    examples=['21','50']\n",
    ")\n",
    "\n",
    "demo.launch()"
   ]
  }
 ],
 "metadata": {
  "kernelspec": {
   "display_name": "LAB1-XXQFwi6-",
   "language": "python",
   "name": "python3"
  },
  "language_info": {
   "codemirror_mode": {
    "name": "ipython",
    "version": 3
   },
   "file_extension": ".py",
   "mimetype": "text/x-python",
   "name": "python",
   "nbconvert_exporter": "python",
   "pygments_lexer": "ipython3",
   "version": "3.10.8"
  },
  "orig_nbformat": 4
 },
 "nbformat": 4,
 "nbformat_minor": 2
}
