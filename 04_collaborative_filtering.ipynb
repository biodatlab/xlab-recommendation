{
 "cells": [
  {
   "cell_type": "markdown",
   "metadata": {},
   "source": [
    "# LAB 4 : Collaborative Filtering on Last.fm Dataset"
   ]
  },
  {
   "cell_type": "markdown",
   "metadata": {},
   "source": [
    "In this lab, we use the Last.fm Dataset (https://www.last.fm/)  - 360K Users (http://ocelma.net/MusicRecommendationDataset/lastfm-360K.html) \\\n",
    "The dataset contains <user, artist, plays> tuples of 360,000 users.\\\n",
    "The data format of our database is: <em> user-mboxshal \\t musicbrainz-artist-id \\t artist-name \\t plays. </em> \n",
    "\n",
    "\n"
   ]
  },
  {
   "cell_type": "code",
   "execution_count": 112,
   "metadata": {},
   "outputs": [
    {
     "data": {
      "text/html": [
       "<div>\n",
       "<style scoped>\n",
       "    .dataframe tbody tr th:only-of-type {\n",
       "        vertical-align: middle;\n",
       "    }\n",
       "\n",
       "    .dataframe tbody tr th {\n",
       "        vertical-align: top;\n",
       "    }\n",
       "\n",
       "    .dataframe thead th {\n",
       "        text-align: right;\n",
       "    }\n",
       "</style>\n",
       "<table border=\"1\" class=\"dataframe\">\n",
       "  <thead>\n",
       "    <tr style=\"text-align: right;\">\n",
       "      <th></th>\n",
       "      <th>user</th>\n",
       "      <th>artist</th>\n",
       "      <th>plays</th>\n",
       "    </tr>\n",
       "  </thead>\n",
       "  <tbody>\n",
       "    <tr>\n",
       "      <th>0</th>\n",
       "      <td>00000c289a1829a808ac09c00daf10bc3c4e223b</td>\n",
       "      <td>betty blowtorch</td>\n",
       "      <td>2137</td>\n",
       "    </tr>\n",
       "    <tr>\n",
       "      <th>1</th>\n",
       "      <td>00000c289a1829a808ac09c00daf10bc3c4e223b</td>\n",
       "      <td>die Ärzte</td>\n",
       "      <td>1099</td>\n",
       "    </tr>\n",
       "    <tr>\n",
       "      <th>2</th>\n",
       "      <td>00000c289a1829a808ac09c00daf10bc3c4e223b</td>\n",
       "      <td>melissa etheridge</td>\n",
       "      <td>897</td>\n",
       "    </tr>\n",
       "    <tr>\n",
       "      <th>3</th>\n",
       "      <td>00000c289a1829a808ac09c00daf10bc3c4e223b</td>\n",
       "      <td>elvenking</td>\n",
       "      <td>717</td>\n",
       "    </tr>\n",
       "    <tr>\n",
       "      <th>4</th>\n",
       "      <td>00000c289a1829a808ac09c00daf10bc3c4e223b</td>\n",
       "      <td>juliette &amp; the licks</td>\n",
       "      <td>706</td>\n",
       "    </tr>\n",
       "    <tr>\n",
       "      <th>...</th>\n",
       "      <td>...</td>\n",
       "      <td>...</td>\n",
       "      <td>...</td>\n",
       "    </tr>\n",
       "    <tr>\n",
       "      <th>17535650</th>\n",
       "      <td>sep 20, 2008</td>\n",
       "      <td>turbostaat</td>\n",
       "      <td>12</td>\n",
       "    </tr>\n",
       "    <tr>\n",
       "      <th>17535651</th>\n",
       "      <td>sep 20, 2008</td>\n",
       "      <td>cuba missouri</td>\n",
       "      <td>11</td>\n",
       "    </tr>\n",
       "    <tr>\n",
       "      <th>17535652</th>\n",
       "      <td>sep 20, 2008</td>\n",
       "      <td>little man tate</td>\n",
       "      <td>11</td>\n",
       "    </tr>\n",
       "    <tr>\n",
       "      <th>17535653</th>\n",
       "      <td>sep 20, 2008</td>\n",
       "      <td>sigur rós</td>\n",
       "      <td>10</td>\n",
       "    </tr>\n",
       "    <tr>\n",
       "      <th>17535654</th>\n",
       "      <td>sep 20, 2008</td>\n",
       "      <td>the smiths</td>\n",
       "      <td>10</td>\n",
       "    </tr>\n",
       "  </tbody>\n",
       "</table>\n",
       "<p>17535655 rows × 3 columns</p>\n",
       "</div>"
      ],
      "text/plain": [
       "                                              user                artist  \\\n",
       "0         00000c289a1829a808ac09c00daf10bc3c4e223b       betty blowtorch   \n",
       "1         00000c289a1829a808ac09c00daf10bc3c4e223b             die Ärzte   \n",
       "2         00000c289a1829a808ac09c00daf10bc3c4e223b     melissa etheridge   \n",
       "3         00000c289a1829a808ac09c00daf10bc3c4e223b             elvenking   \n",
       "4         00000c289a1829a808ac09c00daf10bc3c4e223b  juliette & the licks   \n",
       "...                                            ...                   ...   \n",
       "17535650                              sep 20, 2008            turbostaat   \n",
       "17535651                              sep 20, 2008         cuba missouri   \n",
       "17535652                              sep 20, 2008       little man tate   \n",
       "17535653                              sep 20, 2008             sigur rós   \n",
       "17535654                              sep 20, 2008            the smiths   \n",
       "\n",
       "          plays  \n",
       "0          2137  \n",
       "1          1099  \n",
       "2           897  \n",
       "3           717  \n",
       "4           706  \n",
       "...         ...  \n",
       "17535650     12  \n",
       "17535651     11  \n",
       "17535652     11  \n",
       "17535653     10  \n",
       "17535654     10  \n",
       "\n",
       "[17535655 rows x 3 columns]"
      ]
     },
     "execution_count": 112,
     "metadata": {},
     "output_type": "execute_result"
    }
   ],
   "source": [
    "import pandas as pd\n",
    "import sys, os\n",
    "import numpy as np\n",
    "import gdown\n",
    "from scipy.sparse import coo_matrix\n",
    "\n",
    "parent_dir = os.getcwd()\n",
    "path = os.path.dirname(parent_dir)\n",
    "sys.path.append(path)\n",
    "\n",
    "parent_dir = os.getcwd()\n",
    "path = os.path.dirname(parent_dir)\n",
    "sys.path.append(path)\n",
    "# print(path)\n",
    "file = path + r\"\\xlab-recommendation\\usersha1-artmbid-artname-plays.tsv\"\n",
    "# print(file)\n",
    "\n",
    "# Select an interesting data column (Select only \"artist-name\", not select \"artist-id\").\n",
    "user_artist_play_df = pd.read_table(file, usecols=[0, 2, 3], names=[\"user\", \"artist\", \"plays\"])\n",
    "user_artist_play_df"
   ]
  },
  {
   "cell_type": "markdown",
   "metadata": {},
   "source": [
    "Checking and dropping missing values"
   ]
  },
  {
   "cell_type": "code",
   "execution_count": 113,
   "metadata": {},
   "outputs": [
    {
     "name": "stdout",
     "output_type": "stream",
     "text": [
      "user        0\n",
      "artist    204\n",
      "plays       0\n",
      "dtype: int64\n"
     ]
    }
   ],
   "source": [
    "print(user_artist_play_df.isnull().sum())\n",
    "user_artist_play_df.dropna(inplace=True)"
   ]
  },
  {
   "cell_type": "markdown",
   "metadata": {},
   "source": [
    "Create sparse matrix"
   ]
  },
  {
   "cell_type": "code",
   "execution_count": 116,
   "metadata": {},
   "outputs": [
    {
     "name": "stdout",
     "output_type": "stream",
     "text": [
      "  (0, 45561)\t2137.0\n",
      "  (0, 90933)\t1099.0\n",
      "  (0, 185367)\t897.0\n",
      "  (0, 106704)\t717.0\n",
      "  (0, 155241)\t706.0\n",
      "  (0, 220128)\t691.0\n",
      "  (0, 177597)\t545.0\n",
      "  (0, 252797)\t507.0\n",
      "  (0, 259856)\t424.0\n",
      "  (0, 175802)\t403.0\n",
      "  (0, 278311)\t393.0\n",
      "  (0, 169906)\t387.0\n",
      "  (0, 126690)\t361.0\n",
      "  (0, 137062)\t358.0\n",
      "  (0, 253488)\t329.0\n",
      "  (0, 144293)\t316.0\n",
      "  (0, 37515)\t310.0\n",
      "  (0, 100639)\t302.0\n",
      "  (0, 19592)\t288.0\n",
      "  (0, 167984)\t281.0\n",
      "  (0, 230100)\t244.0\n",
      "  (0, 103711)\t232.0\n",
      "  (0, 184079)\t231.0\n",
      "  (0, 19356)\t229.0\n",
      "  (0, 144238)\t227.0\n",
      "  :\t:\n",
      "  (358867, 102595)\t23.0\n",
      "  (358867, 218091)\t23.0\n",
      "  (358867, 152622)\t21.0\n",
      "  (358867, 118823)\t20.0\n",
      "  (358867, 73818)\t19.0\n",
      "  (358867, 186549)\t18.0\n",
      "  (358867, 251158)\t16.0\n",
      "  (358867, 41969)\t15.0\n",
      "  (358867, 68119)\t14.0\n",
      "  (358867, 160643)\t14.0\n",
      "  (358867, 161724)\t14.0\n",
      "  (358867, 258344)\t14.0\n",
      "  (358867, 263682)\t14.0\n",
      "  (358867, 73136)\t12.0\n",
      "  (358867, 99429)\t12.0\n",
      "  (358867, 178275)\t12.0\n",
      "  (358867, 217883)\t12.0\n",
      "  (358867, 254532)\t12.0\n",
      "  (358867, 265438)\t12.0\n",
      "  (358867, 263239)\t12.0\n",
      "  (358867, 271740)\t12.0\n",
      "  (358867, 78482)\t11.0\n",
      "  (358867, 171784)\t11.0\n",
      "  (358867, 235118)\t10.0\n",
      "  (358867, 262827)\t10.0\n"
     ]
    }
   ],
   "source": [
    "# dtype column \"user\" and \"artist\" to categoricals\n",
    "user_artist_play_df[\"user\"] = user_artist_play_df[\"user\"].astype(\"category\")\n",
    "user_artist_play_df[\"artist\"] = user_artist_play_df[\"artist\"].astype(\"category\")\n",
    "\n",
    "# Using scipy to create sparse matrix in coordinate format\n",
    "plays = coo_matrix(\n",
    "    (\n",
    "        user_artist_play_df[\"plays\"].astype(float),\n",
    "        (\n",
    "            user_artist_play_df[\"user\"].cat.codes.copy(),\n",
    "            user_artist_play_df[\"artist\"].cat.codes.copy(),\n",
    "        ),\n",
    "    )\n",
    ")\n",
    "print(plays)"
   ]
  },
  {
   "cell_type": "markdown",
   "metadata": {},
   "source": [
    "Weight matrix before training a model \n",
    "- Reducing the impact of users who have played the same artist thousands of times.\n",
    "- Reducing the weight given to popular items\n"
   ]
  },
  {
   "cell_type": "code",
   "execution_count": 117,
   "metadata": {},
   "outputs": [
    {
     "name": "stdout",
     "output_type": "stream",
     "text": [
      "  (0, 45561)\t776.3481353071093\n",
      "  (0, 90933)\t332.6857830957528\n",
      "  (0, 185367)\t517.1930792453228\n",
      "  (0, 106704)\t460.35869520636925\n",
      "  (0, 155241)\t551.4702766798206\n",
      "  (0, 220128)\t165.91979931560545\n",
      "  (0, 177597)\t593.8647735405481\n",
      "  (0, 252797)\t372.1647631439464\n",
      "  (0, 259856)\t549.0157144825586\n",
      "  (0, 175802)\t528.0973097732709\n",
      "  (0, 278311)\t371.0208919895359\n",
      "  (0, 169906)\t416.763906328725\n",
      "  (0, 126690)\t231.46517098971526\n",
      "  (0, 137062)\t378.0924070447568\n",
      "  (0, 253488)\t579.3425478829889\n",
      "  (0, 144293)\t389.7787644244667\n",
      "  (0, 37515)\t445.8621705318491\n",
      "  (0, 100639)\t252.80574613838223\n",
      "  (0, 19592)\t517.4123486228738\n",
      "  (0, 167984)\t298.6027434278712\n",
      "  (0, 230100)\t314.4799916500819\n",
      "  (0, 103711)\t272.46958942263416\n",
      "  (0, 184079)\t307.9087450145287\n",
      "  (0, 19356)\t441.75940983258073\n",
      "  (0, 144238)\t163.45991300802598\n",
      "  :\t:\n",
      "  (358867, 102595)\t187.17894437591065\n",
      "  (358867, 218091)\t123.46887222105828\n",
      "  (358867, 152622)\t216.28011890865318\n",
      "  (358867, 118823)\t105.4638376811993\n",
      "  (358867, 73818)\t169.4282359857642\n",
      "  (358867, 186549)\t107.53796245056904\n",
      "  (358867, 251158)\t221.1492795623069\n",
      "  (358867, 41969)\t349.75525216966054\n",
      "  (358867, 68119)\t200.0988540507825\n",
      "  (358867, 160643)\t199.77938994277503\n",
      "  (358867, 161724)\t333.62899036915184\n",
      "  (358867, 258344)\t90.16104180544208\n",
      "  (358867, 263682)\t161.61827884502824\n",
      "  (358867, 73136)\t133.06520800461465\n",
      "  (358867, 99429)\t258.73697177254843\n",
      "  (358867, 178275)\t179.85295473545943\n",
      "  (358867, 217883)\t42.89339152067525\n",
      "  (358867, 254532)\t66.96844956543806\n",
      "  (358867, 265438)\t169.3701545423499\n",
      "  (358867, 263239)\t166.53834742208747\n",
      "  (358867, 271740)\t186.913533117229\n",
      "  (358867, 78482)\t267.9632399812968\n",
      "  (358867, 171784)\t168.8913779529807\n",
      "  (358867, 235118)\t61.45948475242075\n",
      "  (358867, 262827)\t68.93333357144917\n"
     ]
    }
   ],
   "source": [
    "from implicit.nearest_neighbours import bm25_weight\n",
    "\n",
    "plays = bm25_weight(plays, K1=100, B=0.8)\n",
    "print(plays)"
   ]
  },
  {
   "cell_type": "markdown",
   "metadata": {},
   "source": [
    "Train an ALS model using implicit"
   ]
  },
  {
   "cell_type": "code",
   "execution_count": 123,
   "metadata": {},
   "outputs": [
    {
     "name": "stderr",
     "output_type": "stream",
     "text": [
      "c:\\Users\\K\\.pyenv\\pyenv-win\\versions\\3.9.6\\lib\\site-packages\\implicit\\utils.py:138: ParameterWarning: Method expects CSR input, and was passed coo_matrix instead. Converting to CSR took 0.552670955657959 seconds\n",
      "  warnings.warn(\n",
      "  0%|          | 0/15 [00:00<?, ?it/s]"
     ]
    },
    {
     "name": "stderr",
     "output_type": "stream",
     "text": [
      "  0%|          | 0/15 [00:18<?, ?it/s]\n"
     ]
    },
    {
     "ename": "KeyboardInterrupt",
     "evalue": "",
     "output_type": "error",
     "traceback": [
      "\u001b[1;31m---------------------------------------------------------------------------\u001b[0m",
      "\u001b[1;31mKeyboardInterrupt\u001b[0m                         Traceback (most recent call last)",
      "Cell \u001b[1;32mIn[123], line 5\u001b[0m\n\u001b[0;32m      3\u001b[0m model \u001b[39m=\u001b[39m AlternatingLeastSquares(factors\u001b[39m=\u001b[39m\u001b[39m64\u001b[39m, regularization\u001b[39m=\u001b[39m\u001b[39m0.05\u001b[39m, alpha\u001b[39m=\u001b[39m\u001b[39m2.0\u001b[39m)\n\u001b[0;32m      4\u001b[0m \u001b[39m# plays = plays.tocsr()\u001b[39;00m\n\u001b[1;32m----> 5\u001b[0m model\u001b[39m.\u001b[39;49mfit(plays)\n",
      "File \u001b[1;32mc:\\Users\\K\\.pyenv\\pyenv-win\\versions\\3.9.6\\lib\\site-packages\\implicit\\cpu\\als.py:163\u001b[0m, in \u001b[0;36mAlternatingLeastSquares.fit\u001b[1;34m(self, user_items, show_progress, callback)\u001b[0m\n\u001b[0;32m    161\u001b[0m \u001b[39mfor\u001b[39;00m iteration \u001b[39min\u001b[39;00m \u001b[39mrange\u001b[39m(\u001b[39mself\u001b[39m\u001b[39m.\u001b[39miterations):\n\u001b[0;32m    162\u001b[0m     s \u001b[39m=\u001b[39m time\u001b[39m.\u001b[39mtime()\n\u001b[1;32m--> 163\u001b[0m     solver(\n\u001b[0;32m    164\u001b[0m         Cui,\n\u001b[0;32m    165\u001b[0m         \u001b[39mself\u001b[39;49m\u001b[39m.\u001b[39;49muser_factors,\n\u001b[0;32m    166\u001b[0m         \u001b[39mself\u001b[39;49m\u001b[39m.\u001b[39;49mitem_factors,\n\u001b[0;32m    167\u001b[0m         \u001b[39mself\u001b[39;49m\u001b[39m.\u001b[39;49mregularization,\n\u001b[0;32m    168\u001b[0m         num_threads\u001b[39m=\u001b[39;49m\u001b[39mself\u001b[39;49m\u001b[39m.\u001b[39;49mnum_threads,\n\u001b[0;32m    169\u001b[0m     )\n\u001b[0;32m    170\u001b[0m     solver(\n\u001b[0;32m    171\u001b[0m         Ciu,\n\u001b[0;32m    172\u001b[0m         \u001b[39mself\u001b[39m\u001b[39m.\u001b[39mitem_factors,\n\u001b[1;32m   (...)\u001b[0m\n\u001b[0;32m    175\u001b[0m         num_threads\u001b[39m=\u001b[39m\u001b[39mself\u001b[39m\u001b[39m.\u001b[39mnum_threads,\n\u001b[0;32m    176\u001b[0m     )\n\u001b[0;32m    177\u001b[0m     progress\u001b[39m.\u001b[39mupdate(\u001b[39m1\u001b[39m)\n",
      "\u001b[1;31mKeyboardInterrupt\u001b[0m: "
     ]
    }
   ],
   "source": [
    "from implicit.als import AlternatingLeastSquares\n",
    "\n",
    "model = AlternatingLeastSquares(factors=64, regularization=0.05, alpha=2.0)\n",
    "# plays = plays.tocsr()\n",
    "model.fit(plays)"
   ]
  },
  {
   "cell_type": "markdown",
   "metadata": {},
   "source": [
    "The result"
   ]
  },
  {
   "cell_type": "code",
   "execution_count": 122,
   "metadata": {},
   "outputs": [
    {
     "ename": "TypeError",
     "evalue": "'coo_matrix' object is not subscriptable",
     "output_type": "error",
     "traceback": [
      "\u001b[1;31m---------------------------------------------------------------------------\u001b[0m",
      "\u001b[1;31mTypeError\u001b[0m                                 Traceback (most recent call last)",
      "Cell \u001b[1;32mIn[122], line 3\u001b[0m\n\u001b[0;32m      1\u001b[0m userid \u001b[39m=\u001b[39m \u001b[39m8500\u001b[39m\n\u001b[0;32m      2\u001b[0m artists \u001b[39m=\u001b[39m user_artist_play_df[\u001b[39m\"\u001b[39m\u001b[39martist\u001b[39m\u001b[39m\"\u001b[39m]\n\u001b[1;32m----> 3\u001b[0m ids, scores \u001b[39m=\u001b[39m model\u001b[39m.\u001b[39mrecommend(userid, plays[userid], N\u001b[39m=\u001b[39m\u001b[39m10\u001b[39m, filter_already_liked_items\u001b[39m=\u001b[39m\u001b[39mFalse\u001b[39;00m)\n\u001b[0;32m      4\u001b[0m \u001b[39m# print(ids)\u001b[39;00m\n\u001b[0;32m      5\u001b[0m pd\u001b[39m.\u001b[39mDataFrame({\u001b[39m\"\u001b[39m\u001b[39martist\u001b[39m\u001b[39m\"\u001b[39m: artists[ids], \u001b[39m\"\u001b[39m\u001b[39mscore\u001b[39m\u001b[39m\"\u001b[39m: scores, \u001b[39m\"\u001b[39m\u001b[39malready_liked\u001b[39m\u001b[39m\"\u001b[39m: np\u001b[39m.\u001b[39min1d(ids, plays[userid]\u001b[39m.\u001b[39mindices),})\n",
      "\u001b[1;31mTypeError\u001b[0m: 'coo_matrix' object is not subscriptable"
     ]
    }
   ],
   "source": [
    "userid = 8500\n",
    "artists = user_artist_play_df[\"artist\"]\n",
    "ids, scores = model.recommend(userid, plays[userid], N=10, filter_already_liked_items=False)\n",
    "# print(ids)\n",
    "pd.DataFrame({\"artist\": artists[ids], \"score\": scores, \"already_liked\": np.in1d(ids, plays[userid].indices),})"
   ]
  },
  {
   "cell_type": "code",
   "execution_count": 62,
   "metadata": {},
   "outputs": [
    {
     "name": "stdout",
     "output_type": "stream",
     "text": [
      "Artist ID 125284 : elvis presley\n"
     ]
    },
    {
     "data": {
      "text/html": [
       "<div>\n",
       "<style scoped>\n",
       "    .dataframe tbody tr th:only-of-type {\n",
       "        vertical-align: middle;\n",
       "    }\n",
       "\n",
       "    .dataframe tbody tr th {\n",
       "        vertical-align: top;\n",
       "    }\n",
       "\n",
       "    .dataframe thead th {\n",
       "        text-align: right;\n",
       "    }\n",
       "</style>\n",
       "<table border=\"1\" class=\"dataframe\">\n",
       "  <thead>\n",
       "    <tr style=\"text-align: right;\">\n",
       "      <th></th>\n",
       "      <th>artist</th>\n",
       "      <th>score</th>\n",
       "    </tr>\n",
       "  </thead>\n",
       "  <tbody>\n",
       "    <tr>\n",
       "      <th>125284</th>\n",
       "      <td>elvis presley</td>\n",
       "      <td>1.000000</td>\n",
       "    </tr>\n",
       "    <tr>\n",
       "      <th>60985</th>\n",
       "      <td>led zeppelin</td>\n",
       "      <td>1.000000</td>\n",
       "    </tr>\n",
       "    <tr>\n",
       "      <th>8988</th>\n",
       "      <td>boondox</td>\n",
       "      <td>0.999999</td>\n",
       "    </tr>\n",
       "    <tr>\n",
       "      <th>184648</th>\n",
       "      <td>air</td>\n",
       "      <td>0.999997</td>\n",
       "    </tr>\n",
       "    <tr>\n",
       "      <th>69596</th>\n",
       "      <td>markus krunegård</td>\n",
       "      <td>0.734395</td>\n",
       "    </tr>\n",
       "    <tr>\n",
       "      <th>33904</th>\n",
       "      <td>humane</td>\n",
       "      <td>0.650002</td>\n",
       "    </tr>\n",
       "    <tr>\n",
       "      <th>195002</th>\n",
       "      <td>billie ray martin</td>\n",
       "      <td>0.643661</td>\n",
       "    </tr>\n",
       "    <tr>\n",
       "      <th>7683</th>\n",
       "      <td>nickelback</td>\n",
       "      <td>0.642985</td>\n",
       "    </tr>\n",
       "    <tr>\n",
       "      <th>52880</th>\n",
       "      <td>oasis</td>\n",
       "      <td>0.638421</td>\n",
       "    </tr>\n",
       "    <tr>\n",
       "      <th>18023</th>\n",
       "      <td>crass</td>\n",
       "      <td>0.632795</td>\n",
       "    </tr>\n",
       "  </tbody>\n",
       "</table>\n",
       "</div>"
      ],
      "text/plain": [
       "                   artist     score\n",
       "125284      elvis presley  1.000000\n",
       "60985        led zeppelin  1.000000\n",
       "8988              boondox  0.999999\n",
       "184648                air  0.999997\n",
       "69596    markus krunegård  0.734395\n",
       "33904              humane  0.650002\n",
       "195002  billie ray martin  0.643661\n",
       "7683           nickelback  0.642985\n",
       "52880               oasis  0.638421\n",
       "18023               crass  0.632795"
      ]
     },
     "execution_count": 62,
     "metadata": {},
     "output_type": "execute_result"
    }
   ],
   "source": [
    "itemid = 125284\n",
    "print(f\"Artist ID {itemid} : {artists[itemid]}\")\n",
    "ids, scores = model.similar_items(itemid)\n",
    "\n",
    "# display the results using pandas for nicer formatting\n",
    "pd.DataFrame({\"artist\": artists[ids], \"score\": scores})"
   ]
  }
 ],
 "metadata": {
  "kernelspec": {
   "display_name": "Python 3",
   "language": "python",
   "name": "python3"
  },
  "language_info": {
   "codemirror_mode": {
    "name": "ipython",
    "version": 3
   },
   "file_extension": ".py",
   "mimetype": "text/x-python",
   "name": "python",
   "nbconvert_exporter": "python",
   "pygments_lexer": "ipython3",
   "version": "3.9.6"
  },
  "orig_nbformat": 4
 },
 "nbformat": 4,
 "nbformat_minor": 2
}
