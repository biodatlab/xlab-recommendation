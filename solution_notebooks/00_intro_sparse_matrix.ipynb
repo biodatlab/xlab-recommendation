{
 "cells": [
  {
   "cell_type": "markdown",
   "metadata": {},
   "source": [
    "# Introduction to Sparse Matrix\n",
    "\n",
    "[![Open in Colab](https://colab.research.google.com/assets/colab-badge.svg)](https://colab.research.google.com/github/biodatlab/xlab-recommendation/blob/main/solution_notebooks/00_intro_sparse_matrix.ipynb)\n",
    "\n",
    "biodatlab/xlab-recommendation/solution_notebooks/00_intro_sparse_matrix.ipynb\n",
    "\n",
    "The SciPy library offers many available functions to deal with sparse matrix types. \\\n",
    "In this introduction, we will focus on the following:\n",
    "\n",
    "1. coo_martix: COOridinate format\n",
    "1. csc_matrix: Compressed Sparse Column format\n",
    "2. csr_matrix: Compressed Sparse Row format"
   ]
  },
  {
   "cell_type": "code",
   "execution_count": null,
   "metadata": {},
   "outputs": [],
   "source": [
    "!pip install numpy\n",
    "!pip install scipy"
   ]
  },
  {
   "cell_type": "markdown",
   "metadata": {},
   "source": [
    "#### Sparse matrix in COOrdinate format\n",
    "This type of sparse matrix uses three subarrays to store the data values and coordinate positions."
   ]
  },
  {
   "cell_type": "code",
   "execution_count": null,
   "metadata": {},
   "outputs": [],
   "source": [
    "import numpy as np \n",
    "from scipy.sparse import coo_matrix\n",
    "\n",
    "row = np.array([1,3,0,2,4])\n",
    "col = np.array([1,4,2,3,3])\n",
    "data = np.array([2,5,9,1,6])\n",
    "\n",
    "X = coo_matrix((data,(row,col)))\n",
    "print(X)\n",
    "X.todense()\n"
   ]
  },
  {
   "cell_type": "code",
   "execution_count": null,
   "metadata": {},
   "outputs": [],
   "source": [
    "from scipy.sparse import csc_matrix\n",
    "\n",
    "X = csc_matrix((data,(row,col)))\n",
    "print()\n",
    "X.todense()"
   ]
  }
 ],
 "metadata": {
  "kernelspec": {
   "display_name": "Python 3",
   "language": "python",
   "name": "python3"
  },
  "language_info": {
   "codemirror_mode": {
    "name": "ipython",
    "version": 3
   },
   "file_extension": ".py",
   "mimetype": "text/x-python",
   "name": "python",
   "nbconvert_exporter": "python",
   "pygments_lexer": "ipython3",
   "version": "3.9.6"
  },
  "orig_nbformat": 4
 },
 "nbformat": 4,
 "nbformat_minor": 2
}
