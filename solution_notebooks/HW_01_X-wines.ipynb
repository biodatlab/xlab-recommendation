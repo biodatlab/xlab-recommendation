{
 "cells": [
  {
   "cell_type": "markdown",
   "metadata": {},
   "source": [
    "# Implicit Recommendation with X-wines Dataset\n",
    "[![Open in Colab](https://colab.research.google.com/assets/colab-badge.svg)](https://colab.research.google.com/github/biodatlab/xlab-recommendation/blob/main/solution_notebooks/HW_01_X-wines.ipynb) \n",
    "\n",
    "Use [X-wines](https://github.com/rogerioxavier/X-Wines/blob/main/Dataset/last/XWines_Test_1K_ratings.csv) dataset for implicit recommendation\n",
    "\n"
   ]
  },
  {
   "cell_type": "code",
   "execution_count": null,
   "metadata": {},
   "outputs": [],
   "source": [
    "!pip install implicit\n",
    "!pip install gradio"
   ]
  },
  {
   "cell_type": "markdown",
   "metadata": {},
   "source": [
    "#### Download data"
   ]
  },
  {
   "cell_type": "code",
   "execution_count": null,
   "metadata": {},
   "outputs": [],
   "source": [
    "!wget https://github.com/rogerioxavier/X-Wines/raw/main/Dataset/last/XWines_Test_100_wines_1K_ratings.zip\n",
    "!unzip XWines_Test_100_wines_1K_ratings.zip"
   ]
  },
  {
   "cell_type": "code",
   "execution_count": null,
   "metadata": {},
   "outputs": [],
   "source": [
    "import pandas as pd\n",
    "rating_df = pd.read_csv(\"XWines_Test_1K_ratings.csv\")\n",
    "wine_df = pd.read_csv(\"XWines_Test_100_wines.csv\")\n",
    "# wine_df.head()\n",
    "# rating_df.head()"
   ]
  },
  {
   "cell_type": "markdown",
   "metadata": {},
   "source": [
    "#### Create an item-user sparse matrix"
   ]
  },
  {
   "cell_type": "code",
   "execution_count": null,
   "metadata": {},
   "outputs": [],
   "source": [
    "from scipy.sparse import csr_matrix\n",
    "rating_df[\"WineID\"] = rating_df[\"WineID\"].astype(\"category\")\n",
    "rating_df[\"UserID\"] = rating_df[\"UserID\"].astype(\"category\")\n",
    "\n",
    "# Create an item-user relationship for bm25_weight.\n",
    "wine_user_rating = csr_matrix((rating_df[\"Rating\"].astype(float), \n",
    "                   (rating_df[\"WineID\"].cat.codes, \n",
    "                    rating_df[\"UserID\"].cat.codes)))\n",
    "\n",
    "print(wine_user_rating)\n"
   ]
  },
  {
   "cell_type": "markdown",
   "metadata": {},
   "source": [
    "#### Convert explicit data into implicit data"
   ]
  },
  {
   "cell_type": "code",
   "execution_count": null,
   "metadata": {},
   "outputs": [],
   "source": [
    "import numpy as np \n",
    "min_rating = 4.0\n",
    "wine_user_rating.data[wine_user_rating.data < min_rating] = 0\n",
    "wine_user_rating.eliminate_zeros()\n",
    "wine_user_rating.data = np.ones(len(wine_user_rating.data))\n",
    "print(wine_user_rating)"
   ]
  },
  {
   "cell_type": "markdown",
   "metadata": {},
   "source": [
    "#### Weight data with bm25_weight"
   ]
  },
  {
   "cell_type": "code",
   "execution_count": null,
   "metadata": {},
   "outputs": [],
   "source": [
    "from implicit.nearest_neighbours import bm25_weight\n",
    "wine_user_rating = (bm25_weight(wine_user_rating, B=0.9)*5).tocsr()\n",
    "print(wine_user_rating)"
   ]
  },
  {
   "cell_type": "markdown",
   "metadata": {},
   "source": [
    "#### Create an alternating least square model"
   ]
  },
  {
   "cell_type": "code",
   "execution_count": null,
   "metadata": {},
   "outputs": [],
   "source": [
    "from implicit.als import AlternatingLeastSquares\n",
    "\n",
    "model = AlternatingLeastSquares()\n",
    "# Implicit expect user-item (userID-wineID)\n",
    "user_wine = wine_user_rating.T.tocsr()\n",
    "\n",
    "model.fit(user_wine)"
   ]
  },
  {
   "cell_type": "markdown",
   "metadata": {},
   "source": [
    "#### Show the result"
   ]
  },
  {
   "cell_type": "code",
   "execution_count": null,
   "metadata": {},
   "outputs": [],
   "source": [
    "# userid = 100\n",
    "# # Get top 10 wines recommendation for a single user\n",
    "# ids, scores = model.recommend(userid, user_wine[userid], N=10, filter_already_liked_items=False)\n",
    "\n",
    "# # Create categories for the \"WineID\" column in the rating_df as categorical.\n",
    "# wine_id_categories = rating_df[\"WineID\"].cat.categories\n",
    "# wine_recommended_df = wine_df.iloc[ids]\n",
    "# wine_recommended_df = wine_recommended_df[[\"WineID\",\"WineName\"]]\n",
    "\n",
    "# recommend_df = pd.DataFrame({\"WineID\": wine_id_categories[ids], \"score\": scores, \"already_liked\": np.in1d(ids, user_wine[userid].indices),})\n",
    "# recommend_df = wine_recommended_df.merge(recommend_df, how=\"inner\", on=\"WineID\")"
   ]
  },
  {
   "cell_type": "code",
   "execution_count": null,
   "metadata": {},
   "outputs": [],
   "source": [
    "import gradio as gr\n",
    "\n",
    "def wine_recommend(userid):\n",
    "    userid = int(userid)\n",
    "    ids, scores = model.recommend(userid, user_wine[userid], N=10, filter_already_liked_items=False)\n",
    "\n",
    "    # Create categories for the \"WineID\" column in the rating_df as categorical.\n",
    "    wine_id_categories = rating_df[\"WineID\"].cat.categories\n",
    "    wine_recommended_df = wine_df.iloc[ids]\n",
    "    wine_recommended_df = wine_recommended_df[[\"WineID\",\"WineName\"]]\n",
    "\n",
    "    df = pd.DataFrame({\"WineID\": wine_id_categories[ids], \"score\": scores, \"already_liked\": np.in1d(ids, user_wine[userid].indices),})\n",
    "    df = wine_recommended_df.merge(df, how=\"inner\", on=\"WineID\")\n",
    "    return df\n",
    "\n",
    "demo = gr.Interface(\n",
    "    fn=wine_recommend,\n",
    "    inputs=\"text\",\n",
    "    outputs=\"dataframe\",\n",
    ")\n",
    "demo.launch(share=True)"
   ]
  },
  {
   "cell_type": "code",
   "execution_count": null,
   "metadata": {},
   "outputs": [],
   "source": [
    "# itemid = 73\n",
    "# ids, scores = model.similar_items(itemid)\n",
    "# pd.DataFrame({\"wineID\":wine_id_categories[ids], \"score\": scores})"
   ]
  },
  {
   "cell_type": "code",
   "execution_count": null,
   "metadata": {},
   "outputs": [],
   "source": [
    "import gradio as gr\n",
    "\n",
    "def wine_similarity(itemid):\n",
    "    itemid = int(itemid)\n",
    "    ids, scores = model.similar_items(itemid)\n",
    "\n",
    "    # Create categories for the \"WineID\" column in the rating_df as categorical.\n",
    "    wine_id_categories = rating_df[\"WineID\"].cat.categories\n",
    "    wine_recommended_df = wine_df.iloc[ids]\n",
    "    wine_recommended_df = wine_recommended_df[[\"WineID\",\"WineName\"]]\n",
    "\n",
    "    df = pd.DataFrame({\"wineID\":wine_id_categories[ids], \"score\": scores})\n",
    "    df = wine_recommended_df.merge(df, how=\"inner\", on=\"WineID\")\n",
    "    return df\n",
    "\n",
    "demo = gr.Interface(\n",
    "    fn=wine_similarity,\n",
    "    inputs=\"text\",\n",
    "    outputs=\"dataframe\",\n",
    ")\n",
    "demo.launch(share=True)"
   ]
  }
 ],
 "metadata": {
  "kernelspec": {
   "display_name": "Python 3",
   "language": "python",
   "name": "python3"
  },
  "language_info": {
   "codemirror_mode": {
    "name": "ipython",
    "version": 3
   },
   "file_extension": ".py",
   "mimetype": "text/x-python",
   "name": "python",
   "nbconvert_exporter": "python",
   "pygments_lexer": "ipython3",
   "version": "3.9.6"
  },
  "orig_nbformat": 4
 },
 "nbformat": 4,
 "nbformat_minor": 2
}
