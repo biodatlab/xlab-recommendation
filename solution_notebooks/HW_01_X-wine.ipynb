{
 "cells": [
  {
   "cell_type": "markdown",
   "metadata": {},
   "source": [
    "# Implicit Recommendation with X-wine Dataset\n",
    "Use [X-wine](https://github.com/rogerioxavier/X-Wines/blob/main/Dataset/last/XWines_Test_1K_ratings.csv) dataset for implicit recommendation"
   ]
  },
  {
   "cell_type": "code",
   "execution_count": null,
   "metadata": {
    "vscode": {
     "languageId": "plaintext"
    }
   },
   "outputs": [],
   "source": []
  }
 ],
 "metadata": {
  "language_info": {
   "name": "python"
  },
  "orig_nbformat": 4
 },
 "nbformat": 4,
 "nbformat_minor": 2
}
