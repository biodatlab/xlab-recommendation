{
 "cells": [
  {
   "cell_type": "markdown",
   "metadata": {},
   "source": [
    "# LAB 2 : Collaborative Filtering on Last.fm Dataset"
   ]
  },
  {
   "cell_type": "markdown",
   "metadata": {},
   "source": [
    "[![Open in Colab](https://colab.research.google.com/assets/colab-badge.svg)](https://colab.research.google.com/github/biodatlab/xlab-recommendation/blob/main/solution_notebooks/02_collaborative_filtering_lastfm.ipynb) \n",
    "\n",
    "In this lab, we use the Last.fm Dataset (https://www.last.fm/)  \\\n",
    "360K Users (http://ocelma.net/MusicRecommendationDataset/lastfm-360K.html) \\\n",
    "The dataset contains <user, artist, plays> tuples of 360,000 users.\\\n",
    "The data format of our database is: <em> user-mboxshal \\t musicbrainz-artist-id \\t artist-name \\t plays. </em>"
   ]
  },
  {
   "cell_type": "markdown",
   "metadata": {},
   "source": [
    "Install library"
   ]
  },
  {
   "cell_type": "code",
   "execution_count": null,
   "metadata": {},
   "outputs": [],
   "source": [
    "# !pip install pandas\n",
    "# !pip install numpy\n",
    "!pip install implicit\n",
    "!pip install gradio"
   ]
  },
  {
   "cell_type": "markdown",
   "metadata": {},
   "source": [
    "Using the implicit.datasets module to download last.fm locally"
   ]
  },
  {
   "cell_type": "code",
   "execution_count": 3,
   "metadata": {},
   "outputs": [
    {
     "name": "stderr",
     "output_type": "stream",
     "text": [
      "c:\\Users\\K\\.pyenv\\pyenv-win\\versions\\3.9.6\\lib\\site-packages\\tqdm\\auto.py:21: TqdmWarning: IProgress not found. Please update jupyter and ipywidgets. See https://ipywidgets.readthedocs.io/en/stable/user_install.html\n",
      "  from .autonotebook import tqdm as notebook_tqdm\n"
     ]
    },
    {
     "name": "stdout",
     "output_type": "stream",
     "text": [
      "  (0, 73470)\t32.0\n",
      "  (0, 97856)\t24.0\n",
      "  (0, 235382)\t1339.0\n",
      "  (0, 266072)\t211.0\n",
      "  (1, 171865)\t23.0\n",
      "  (2, 180892)\t70.0\n",
      "  (3, 285031)\t23.0\n",
      "  (4, 15103)\t9.0\n",
      "  (5, 81700)\t16.0\n",
      "  (6, 284057)\t56.0\n",
      "  (7, 335320)\t24.0\n",
      "  (8, 182831)\t113.0\n",
      "  (9, 12461)\t3.0\n",
      "  (10, 78717)\t2.0\n",
      "  (10, 149431)\t2.0\n",
      "  (10, 220512)\t2.0\n",
      "  (10, 261830)\t2.0\n",
      "  (10, 280610)\t2.0\n",
      "  (10, 297146)\t2.0\n",
      "  (11, 296825)\t118.0\n",
      "  (12, 332435)\t202.0\n",
      "  (13, 41075)\t30.0\n",
      "  (14, 298571)\t138.0\n",
      "  (15, 295693)\t219.0\n",
      "  (16, 185703)\t35.0\n",
      "  :\t:\n",
      "  (292364, 4775)\t5.0\n",
      "  (292365, 147943)\t1329.0\n",
      "  (292366, 95230)\t157.0\n",
      "  (292367, 56086)\t5.0\n",
      "  (292367, 137277)\t70.0\n",
      "  (292367, 287297)\t87.0\n",
      "  (292368, 294859)\t68.0\n",
      "  (292369, 308202)\t125.0\n",
      "  (292370, 42122)\t315.0\n",
      "  (292370, 263053)\t729.0\n",
      "  (292370, 301225)\t7.0\n",
      "  (292371, 229732)\t3.0\n",
      "  (292372, 355627)\t384.0\n",
      "  (292373, 337693)\t486.0\n",
      "  (292374, 212855)\t48.0\n",
      "  (292375, 231253)\t127.0\n",
      "  (292376, 147738)\t7.0\n",
      "  (292377, 220443)\t125.0\n",
      "  (292378, 219957)\t1.0\n",
      "  (292379, 14949)\t66.0\n",
      "  (292380, 218794)\t25.0\n",
      "  (292381, 209453)\t85.0\n",
      "  (292382, 245468)\t369.0\n",
      "  (292383, 84262)\t142.0\n",
      "  (292384, 85674)\t102.0\n"
     ]
    }
   ],
   "source": [
    "import pandas as pd\n",
    "import numpy as np\n",
    "from implicit.datasets.lastfm import get_lastfm\n",
    "\n",
    "# artists and users are the string arrays labeling each row and column of the artist_user_plays matrix\n",
    "\n",
    "# The artist_user_plays matrix is a scipy sparse matrix representing the number of times each artist was played by users, \n",
    "# each row represents different artists, and each column represents different users.\n",
    "\n",
    "artists, users, artist_user_plays = get_lastfm()\n",
    "print(artist_user_plays)"
   ]
  },
  {
   "cell_type": "markdown",
   "metadata": {},
   "source": [
    "Weight matrix before training a model \n",
    "- Reducing the impact of users who have played the same artist thousands of times.\n",
    "- Reducing the weight given to popular items\n"
   ]
  },
  {
   "cell_type": "code",
   "execution_count": null,
   "metadata": {},
   "outputs": [],
   "source": [
    "from implicit.nearest_neighbours import bm25_weight\n",
    "\n",
    "artist_user = bm25_weight(artist_user_plays, K1=100, B=0.8)\n",
    "print(artist_user)"
   ]
  },
  {
   "cell_type": "markdown",
   "metadata": {},
   "source": [
    "Train an ALS model using implicit"
   ]
  },
  {
   "cell_type": "code",
   "execution_count": null,
   "metadata": {},
   "outputs": [],
   "source": [
    "from implicit.als import AlternatingLeastSquares\n",
    "\n",
    "model = AlternatingLeastSquares(factors=64, regularization=0.05, alpha=2.0)\n",
    "# Implicit expect user-item (user-artist)\n",
    "user_artist = artist_user.T.tocsr()\n",
    "\n",
    "model.fit(user_artist)"
   ]
  },
  {
   "cell_type": "markdown",
   "metadata": {},
   "source": [
    "The result"
   ]
  },
  {
   "cell_type": "code",
   "execution_count": null,
   "metadata": {},
   "outputs": [],
   "source": [
    "# userid = 12345\n",
    "\n",
    "# ids, scores = model.recommend(userid, user_artist[userid], N=10, filter_already_liked_items=False)\n",
    "# # print(ids)\n",
    "# df = pd.DataFrame({\"artist\": artists[ids], \"score\": scores, \"already_liked\": np.in1d(ids, user_artist[userid].indices),})"
   ]
  },
  {
   "cell_type": "code",
   "execution_count": null,
   "metadata": {},
   "outputs": [],
   "source": [
    "import gradio as gr\n",
    "\n",
    "def music_recommend(userid):\n",
    "    userid = int(userid)\n",
    "    ids, scores = model.recommend(userid, user_artist[userid], N=10, filter_already_liked_items=False)\n",
    "    df = pd.DataFrame({\"artist\": artists[ids], \"score\": scores}, \"already_liked\": np.in1d(ids, user_artist[userid].indices))\n",
    "    return df\n",
    "\n",
    "\n",
    "demo = gr.Interface(\n",
    "    fn=music_recommend,\n",
    "    inputs=\"text\",\n",
    "    outputs=\"dataframe\",\n",
    ")\n",
    "demo.launch()\n"
   ]
  },
  {
   "cell_type": "code",
   "execution_count": null,
   "metadata": {},
   "outputs": [],
   "source": [
    "# itemid = list(artists).index(\"maroon 5\")\n",
    "# print(f\"Artist ID {itemid} : {artists[itemid]}\")\n",
    "# ids, scores = model.similar_items(itemid)\n",
    "\n",
    "# # display the results using pandas for nicer formatting\n",
    "# pd.DataFrame({\"artist\": artists[ids], \"score\": scores})"
   ]
  },
  {
   "cell_type": "code",
   "execution_count": null,
   "metadata": {},
   "outputs": [],
   "source": [
    "import gradio as gr\n",
    "\n",
    "def music_similarity(artist_name):\n",
    "    itemid = list(artists).index(artist_name)\n",
    "    print(f\"Artist ID {itemid} : {artists[itemid]}\")\n",
    "    ids, scores = model.similar_items(itemid)\n",
    "    df = pd.DataFrame({\"artist\": artists[ids], \"score\": scores})\n",
    "    return df\n",
    "\n",
    "\n",
    "demo = gr.Interface(\n",
    "    fn=music_similarity,\n",
    "    inputs=\"text\",\n",
    "    outputs=\"dataframe\",\n",
    ")\n",
    "demo.launch()"
   ]
  }
 ],
 "metadata": {
  "kernelspec": {
   "display_name": "Python 3",
   "language": "python",
   "name": "python3"
  },
  "language_info": {
   "codemirror_mode": {
    "name": "ipython",
    "version": 3
   },
   "file_extension": ".py",
   "mimetype": "text/x-python",
   "name": "python",
   "nbconvert_exporter": "python",
   "pygments_lexer": "ipython3",
   "version": "3.9.6"
  },
  "orig_nbformat": 4
 },
 "nbformat": 4,
 "nbformat_minor": 2
}
