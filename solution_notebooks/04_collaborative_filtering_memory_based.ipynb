{
 "cells": [
  {
   "cell_type": "markdown",
   "metadata": {},
   "source": [
    "# LAB 4 : Collaborative Filtering Memory-based"
   ]
  },
  {
   "cell_type": "markdown",
   "metadata": {},
   "source": [
    "[![Open in Colab](https://colab.research.google.com/assets/colab-badge.svg)](https://colab.research.google.com/github/biodatlab/xlab-recommendation/blob/main/solution_notebooks/04_collaborative_filtering_memory_based.ipynb)"
   ]
  },
  {
   "cell_type": "markdown",
   "metadata": {},
   "source": [
    "* Dataset: https://www.kaggle.com/competitions/h-and-m-personalized-fashion-recommendations\n",
    "* Objective: To find nearest neighbors of user and item \n",
    "* Libraries : Pandas, Scipy, Numpy, Sklearn\n",
    "* Use 'transactions.csv' to find user similarity and use 'articles.csv' to find item similarity"
   ]
  },
  {
   "cell_type": "markdown",
   "metadata": {},
   "source": [
    "## User Similarity"
   ]
  },
  {
   "cell_type": "markdown",
   "metadata": {},
   "source": [
    "### Read dataset for find user similarity"
   ]
  },
  {
   "cell_type": "code",
   "execution_count": null,
   "metadata": {},
   "outputs": [],
   "source": [
    "! pip install pandas\n",
    "! pip install scipy\n",
    "! pip install numpy\n",
    "! pip install scikit-learn\n",
    "! pip install gdown"
   ]
  },
  {
   "cell_type": "code",
   "execution_count": null,
   "metadata": {},
   "outputs": [],
   "source": [
    "# import essential library\n",
    "import pandas as pd\n",
    "from scipy.sparse import csr_matrix\n",
    "from sklearn.neighbors import NearestNeighbors\n",
    "import numpy as np\n",
    "import os.path as op\n",
    "import os\n",
    "import gdown"
   ]
  },
  {
   "cell_type": "code",
   "execution_count": null,
   "metadata": {},
   "outputs": [],
   "source": [
    "# download folder from google drive\n",
    "url = \"https://drive.google.com/drive/folders/1N8ZZVk0carCvy3mTGwbZ4IZpZ6cOFo5j?usp=drive_link\"\n",
    "gdown.download_folder(url, use_cookies=False)"
   ]
  },
  {
   "cell_type": "code",
   "execution_count": null,
   "metadata": {},
   "outputs": [],
   "source": [
    "# read dataset for find user similarity\n",
    "file_name = \"data/transactions.csv\"\n",
    "transactions_path = op.join(os.getcwd(), file_name)\n",
    "transactions_df = pd.read_csv(transactions_path)"
   ]
  },
  {
   "cell_type": "code",
   "execution_count": null,
   "metadata": {},
   "outputs": [],
   "source": [
    "# check transactions_df\n",
    "transactions_df.head()"
   ]
  },
  {
   "cell_type": "markdown",
   "metadata": {},
   "source": [
    "### Select data for find user similarity"
   ]
  },
  {
   "cell_type": "code",
   "execution_count": null,
   "metadata": {},
   "outputs": [],
   "source": [
    "# select some data from transactions_df\n",
    "selected_user_df = transactions_df[[\"customer_id\", \"article_id\"]].sort_values(\n",
    "    \"customer_id\", ignore_index=True\n",
    ")"
   ]
  },
  {
   "cell_type": "code",
   "execution_count": null,
   "metadata": {},
   "outputs": [],
   "source": [
    "# check selected_user_df\n",
    "selected_user_df.head()"
   ]
  },
  {
   "cell_type": "code",
   "execution_count": null,
   "metadata": {},
   "outputs": [],
   "source": [
    "# find unique customer_id from selected_user_df\n",
    "print(f\"unique customer_id : {len(pd.unique(selected_user_df['customer_id']))}\")\n",
    "# find unique article_id from selected_user_df\n",
    "print(f\"unique article_id : {len(pd.unique(selected_user_df['article_id']))}\")"
   ]
  },
  {
   "cell_type": "markdown",
   "metadata": {},
   "source": [
    "### Select data that customer have transaction greater than 500"
   ]
  },
  {
   "cell_type": "code",
   "execution_count": null,
   "metadata": {},
   "outputs": [],
   "source": [
    "# select data that customer have transaction greater than 500\n",
    "customer_counts = selected_user_df[\"customer_id\"].value_counts()\n",
    "filtered_df = selected_user_df.loc[\n",
    "    selected_user_df[\"customer_id\"].isin(customer_counts[customer_counts > 500].index)\n",
    "].drop_duplicates([\"customer_id\", \"article_id\"], ignore_index=True)"
   ]
  },
  {
   "cell_type": "code",
   "execution_count": null,
   "metadata": {},
   "outputs": [],
   "source": [
    "# find unique customer_id from filtered_df\n",
    "print(f\"unique customer_id : {len(pd.unique(filtered_df['customer_id']))}\")\n",
    "# find unique article_id from filtered_df\n",
    "print(f\"unique article_id : {len(pd.unique(filtered_df['article_id']))}\")"
   ]
  },
  {
   "cell_type": "code",
   "execution_count": null,
   "metadata": {},
   "outputs": [],
   "source": [
    "# astype customer_id, article_id as catagory\n",
    "filtered_df[\"customer_id\"] = filtered_df[\"customer_id\"].astype(\"category\")\n",
    "filtered_df[\"article_id\"] = filtered_df[\"article_id\"].astype(\"category\")\n",
    "\n",
    "# add interact to filtered_df\n",
    "filtered_df[\"interact\"] = 1"
   ]
  },
  {
   "cell_type": "code",
   "execution_count": null,
   "metadata": {},
   "outputs": [],
   "source": [
    "# check filtered_df\n",
    "filtered_df.head()"
   ]
  },
  {
   "cell_type": "markdown",
   "metadata": {},
   "source": [
    "### Create user-item matrix by using sparse matrix"
   ]
  },
  {
   "cell_type": "code",
   "execution_count": null,
   "metadata": {},
   "outputs": [],
   "source": [
    "X_user = csr_matrix(\n",
    "    (\n",
    "        filtered_df[\"interact\"],\n",
    "        (filtered_df[\"customer_id\"].cat.codes, filtered_df[\"article_id\"].cat.codes),\n",
    "    )\n",
    ")"
   ]
  },
  {
   "cell_type": "markdown",
   "metadata": {},
   "source": [
    "### Find nearest neighbors of the user"
   ]
  },
  {
   "cell_type": "code",
   "execution_count": null,
   "metadata": {},
   "outputs": [],
   "source": [
    "k_user = 2  # Number of nearest neighbors to find\n",
    "neighbors_model_user = NearestNeighbors(\n",
    "    n_neighbors=k_user, metric=\"cosine\"\n",
    ")  # You can change the metric as needed\n",
    "\n",
    "# Fit the model on your DataFrame\n",
    "neighbors_model_user.fit(X_user)"
   ]
  },
  {
   "cell_type": "code",
   "execution_count": null,
   "metadata": {},
   "outputs": [],
   "source": [
    "# Find the nearest neighbors for a specific data point (e.g., row 0)\n",
    "row_index_user = (\n",
    "    0  # You can change cat_code of customer that you want to find nearest neighbors\n",
    ")\n",
    "query_point_user = X_user.toarray()[row_index_user].reshape(\n",
    "    1, -1\n",
    ")  # Convert the row to a 2D array\n",
    "distances_user, indices_user = neighbors_model_user.kneighbors(query_point_user)\n",
    "\n",
    "print(distances_user, indices_user)"
   ]
  },
  {
   "cell_type": "markdown",
   "metadata": {},
   "source": [
    "### Recommend item from nearest neighbor to customer"
   ]
  },
  {
   "cell_type": "code",
   "execution_count": null,
   "metadata": {},
   "outputs": [],
   "source": [
    "# change cat code to customer_id for customer\n",
    "customer_id = pd.Categorical.from_codes([row_index_user], categories=filtered_df[\"customer_id\"].cat.categories).astype(str)[0]\n",
    "customer_id"
   ]
  },
  {
   "cell_type": "code",
   "execution_count": null,
   "metadata": {},
   "outputs": [],
   "source": [
    "# change cat code to customer_id for near_customer\n",
    "near_customer_id = pd.Categorical.from_codes(indices_user[0], categories=filtered_df[\"customer_id\"].cat.categories).astype(str)\n",
    "near_customer_id"
   ]
  },
  {
   "cell_type": "code",
   "execution_count": null,
   "metadata": {},
   "outputs": [],
   "source": [
    "# find nearest_customer_id\n",
    "nearest_customer_id = list(set(near_customer_id) - set([customer_id]))[0]\n",
    "nearest_customer_id"
   ]
  },
  {
   "cell_type": "code",
   "execution_count": null,
   "metadata": {},
   "outputs": [],
   "source": [
    "# find article_id that customer_id buy\n",
    "customer_buy = filtered_df[filtered_df['customer_id'] ==  customer_id]['article_id'].values\n",
    "customer_buy"
   ]
  },
  {
   "cell_type": "code",
   "execution_count": null,
   "metadata": {},
   "outputs": [],
   "source": [
    "# find article_id that nearest_customer_id buy\n",
    "nearest_customer_buy = filtered_df[filtered_df['customer_id'] ==  nearest_customer_id]['article_id'].values\n",
    "nearest_customer_buy"
   ]
  },
  {
   "cell_type": "code",
   "execution_count": null,
   "metadata": {},
   "outputs": [],
   "source": [
    "# recommend article that nearest customer buy but customer doesn't buy to customer\n",
    "recommend_item = list(set(nearest_customer_buy) - set(customer_buy))\n",
    "recommend_item"
   ]
  },
  {
   "cell_type": "markdown",
   "metadata": {},
   "source": [
    "## Item Similarity"
   ]
  },
  {
   "cell_type": "markdown",
   "metadata": {},
   "source": [
    "### Read dataset for find item similarity"
   ]
  },
  {
   "cell_type": "code",
   "execution_count": null,
   "metadata": {},
   "outputs": [],
   "source": [
    "# read dataset for find item similarity\n",
    "file_name = \"data/articles.csv\"\n",
    "article_path = op.join(os.getcwd(), file_name)\n",
    "article_df = pd.read_csv(article_path)"
   ]
  },
  {
   "cell_type": "code",
   "execution_count": null,
   "metadata": {},
   "outputs": [],
   "source": [
    "# check article_df\n",
    "article_df.head()"
   ]
  },
  {
   "cell_type": "markdown",
   "metadata": {},
   "source": [
    "### Select data for find item similarity"
   ]
  },
  {
   "cell_type": "code",
   "execution_count": null,
   "metadata": {},
   "outputs": [],
   "source": [
    "# select some data from article dataframe\n",
    "selected_item_column = [\n",
    "    \"product_type_no\",\n",
    "    \"graphical_appearance_no\",\n",
    "    \"colour_group_code\",\n",
    "    \"index_group_no\",\n",
    "    \"section_no\",\n",
    "    \"garment_group_no\",\n",
    "]\n",
    "selected_item_df = article_df[selected_item_column]"
   ]
  },
  {
   "cell_type": "code",
   "execution_count": null,
   "metadata": {},
   "outputs": [],
   "source": [
    "# check selected_item_df\n",
    "selected_item_df.head()"
   ]
  },
  {
   "cell_type": "markdown",
   "metadata": {},
   "source": [
    "### Use one hot technique"
   ]
  },
  {
   "cell_type": "code",
   "execution_count": null,
   "metadata": {},
   "outputs": [],
   "source": [
    "dummies_df = pd.get_dummies(selected_item_df, columns=selected_item_column)\n",
    "dummies_df.head()"
   ]
  },
  {
   "cell_type": "markdown",
   "metadata": {},
   "source": [
    "### Find nearest neighbor of the item"
   ]
  },
  {
   "cell_type": "code",
   "execution_count": null,
   "metadata": {},
   "outputs": [],
   "source": [
    "k_article = 5  # Number of nearest neighbors to find\n",
    "neighbor_model_article = NearestNeighbors(\n",
    "    n_neighbors=k_article, metric=\"cosine\"\n",
    ")  # You can change the metric as needed\n",
    "\n",
    "# Fit the model on your DataFrame\n",
    "neighbor_model_article.fit(dummies_df)"
   ]
  },
  {
   "cell_type": "code",
   "execution_count": null,
   "metadata": {},
   "outputs": [],
   "source": [
    "# Find the nearest neighbors for a specific data point (e.g., row 0)\n",
    "row_index_article = (\n",
    "    100  # You can change index of article that you want to find nearest neighbors\n",
    ")\n",
    "query_point_article = dummies_df.iloc[row_index_article].values.reshape(\n",
    "    1, -1\n",
    ")  # Convert the row to a 2D array\n",
    "distances_article, indices_article = neighbor_model_article.kneighbors(\n",
    "    query_point_article\n",
    ")\n",
    "\n",
    "# Print the nearest neighbors and their distances\n",
    "nearest_article_id = article_df.iloc[indices_article[0]][\"article_id\"].values\n",
    "print(f\"Distances: {distances_article}\")\n",
    "print(f\"Nearest Neighbors: {nearest_article_id}\")"
   ]
  }
 ],
 "metadata": {
  "kernelspec": {
   "display_name": "Python 3",
   "language": "python",
   "name": "python3"
  },
  "language_info": {
   "codemirror_mode": {
    "name": "ipython",
    "version": 3
   },
   "file_extension": ".py",
   "mimetype": "text/x-python",
   "name": "python",
   "nbconvert_exporter": "python",
   "pygments_lexer": "ipython3",
   "version": "3.10.8"
  },
  "orig_nbformat": 4
 },
 "nbformat": 4,
 "nbformat_minor": 2
}
