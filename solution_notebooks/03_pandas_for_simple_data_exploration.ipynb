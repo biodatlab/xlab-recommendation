{
 "cells": [
  {
   "cell_type": "markdown",
   "metadata": {},
   "source": [
    "# Lab 3 : Pandas for simple data exploration"
   ]
  },
  {
   "cell_type": "markdown",
   "metadata": {},
   "source": [
    "[![Open in Colab](https://colab.research.google.com/assets/colab-badge.svg)](https://colab.research.google.com/github/biodatlab/xlab-recommendation/blob/main/solution_notebooks/03_pandas_for_simple_data_exploration.ipynb)"
   ]
  },
  {
   "cell_type": "markdown",
   "metadata": {},
   "source": [
    "* Dataset: https://www.kaggle.com/competitions/h-and-m-personalized-fashion-recommendations\n",
    "* Objective: To use pandas to explore the data\n",
    "* You can read pandas documentation: https://pandas.pydata.org/docs/\n",
    "* Use 'transactions_train.csv' "
   ]
  },
  {
   "cell_type": "markdown",
   "metadata": {},
   "source": [
    "## Read the Data "
   ]
  },
  {
   "cell_type": "code",
   "execution_count": null,
   "metadata": {},
   "outputs": [],
   "source": [
    "! pip install pandas\n",
    "! pip install gdown"
   ]
  },
  {
   "cell_type": "code",
   "execution_count": null,
   "metadata": {},
   "outputs": [],
   "source": [
    "# import essential library\n",
    "import pandas as pd\n",
    "import os\n",
    "import os.path as op\n",
    "import gdown"
   ]
  },
  {
   "cell_type": "code",
   "execution_count": null,
   "metadata": {},
   "outputs": [],
   "source": [
    "# download folder from google drive\n",
    "url = \"https://drive.google.com/drive/folders/1N8ZZVk0carCvy3mTGwbZ4IZpZ6cOFo5j?usp=drive_link\"\n",
    "gdown.download_folder(url, use_cookies=False)"
   ]
  },
  {
   "cell_type": "code",
   "execution_count": null,
   "metadata": {},
   "outputs": [],
   "source": [
    "# read dataset\n",
    "file_name = \"data/transactions_train.csv\"\n",
    "transactions_path = op.join(os.getcwd(),file_name) \n",
    "transactions_df = pd.read_csv(transactions_path)"
   ]
  },
  {
   "cell_type": "code",
   "execution_count": null,
   "metadata": {},
   "outputs": [],
   "source": [
    "# check transactions dataframe\n",
    "transactions_df.head()"
   ]
  },
  {
   "cell_type": "markdown",
   "metadata": {},
   "source": [
    "## Find top 10 customers"
   ]
  },
  {
   "cell_type": "code",
   "execution_count": null,
   "metadata": {},
   "outputs": [],
   "source": [
    "# count transaction(s) per each customers\n",
    "count_transactions_series = transactions_df[\"customer_id\"].value_counts()"
   ]
  },
  {
   "cell_type": "code",
   "execution_count": null,
   "metadata": {},
   "outputs": [],
   "source": [
    "# select top 10 customer from count_transactions_series\n",
    "top_ten_customer_series = count_transactions_series[0:10].index"
   ]
  },
  {
   "cell_type": "code",
   "execution_count": null,
   "metadata": {},
   "outputs": [],
   "source": [
    "# print the result\n",
    "print(f\"Top 10 customers : {top_ten_customer_series}\")"
   ]
  },
  {
   "cell_type": "markdown",
   "metadata": {},
   "source": [
    "## Find customer that have more than 500 transactions"
   ]
  },
  {
   "cell_type": "code",
   "execution_count": null,
   "metadata": {},
   "outputs": [],
   "source": [
    "# select customer that have more than 500 transactions from count_transactions_series\n",
    "more_than_five_hundred_transactions_series = count_transactions_series[\n",
    "    count_transactions_series > 500\n",
    "]"
   ]
  },
  {
   "cell_type": "code",
   "execution_count": null,
   "metadata": {},
   "outputs": [],
   "source": [
    "# print the result\n",
    "print(\n",
    "    f\" Number of customer that have more than 500 transactions : {len(more_than_five_hundred_transactions_series)}\"\n",
    ")\n",
    "print(f\" Customer that have more than 500 transactions :\")\n",
    "print(more_than_five_hundred_transactions_series)"
   ]
  },
  {
   "cell_type": "markdown",
   "metadata": {},
   "source": [
    "## Find top 10 articles"
   ]
  },
  {
   "cell_type": "code",
   "execution_count": null,
   "metadata": {},
   "outputs": [],
   "source": [
    "# count article(s)\n",
    "count_article_series = transactions_df[\"article_id\"].value_counts()"
   ]
  },
  {
   "cell_type": "code",
   "execution_count": null,
   "metadata": {},
   "outputs": [],
   "source": [
    "# select top 10 articles from count_article_series\n",
    "top_ten_articles_series = count_article_series[0:10].index"
   ]
  },
  {
   "cell_type": "code",
   "execution_count": null,
   "metadata": {},
   "outputs": [],
   "source": [
    "# print the result\n",
    "print(f\" Top 10 articles : {top_ten_articles_series}\")"
   ]
  },
  {
   "cell_type": "markdown",
   "metadata": {},
   "source": [
    "## Find sale channel that have highest transaction "
   ]
  },
  {
   "cell_type": "code",
   "execution_count": null,
   "metadata": {},
   "outputs": [],
   "source": [
    "# count transactions per sale channel\n",
    "count_sale_channel_series = transactions_df[\"sales_channel_id\"].value_counts()\n",
    "print(count_sale_channel_series)"
   ]
  },
  {
   "cell_type": "code",
   "execution_count": null,
   "metadata": {},
   "outputs": [],
   "source": [
    "# print the result\n",
    "print(\n",
    "    f\"sale channel that have highest transaction : {count_sale_channel_series.index[0]} with {count_sale_channel_series.values[0]} transactions\"\n",
    ")"
   ]
  },
  {
   "cell_type": "markdown",
   "metadata": {},
   "source": [
    "## Find top 10 articles per each sale channel"
   ]
  },
  {
   "cell_type": "code",
   "execution_count": null,
   "metadata": {},
   "outputs": [],
   "source": [
    "# count article per each sale channel\n",
    "count_article_sale_channel_one = transactions_df[transactions_df[\"sales_channel_id\"] == 1]['article_id'].value_counts()\n",
    "count_article_sale_channel_two = transactions_df[transactions_df[\"sales_channel_id\"] == 2]['article_id'].value_counts()"
   ]
  },
  {
   "cell_type": "code",
   "execution_count": null,
   "metadata": {},
   "outputs": [],
   "source": [
    "# select top 10 articles per each sale channel\n",
    "top_ten_articles_sale_channel_one = count_article_sale_channel_one[0:10].index\n",
    "top_ten_articles_sale_channel_two = count_article_sale_channel_two[0:10].index"
   ]
  },
  {
   "cell_type": "code",
   "execution_count": null,
   "metadata": {},
   "outputs": [],
   "source": [
    "# print the result\n",
    "print(f\"Top 10 articles for sale channel 1 : {top_ten_articles_sale_channel_one}\")\n",
    "print(f\"Top 10 articles for sale channel 2 : {top_ten_articles_sale_channel_two}\")"
   ]
  },
  {
   "cell_type": "markdown",
   "metadata": {},
   "source": [
    "## Find top 10 customers per each sale channel"
   ]
  },
  {
   "cell_type": "code",
   "execution_count": null,
   "metadata": {},
   "outputs": [],
   "source": [
    "# count customer per each sale channel\n",
    "count_customer_sale_channel_one = transactions_df[transactions_df[\"sales_channel_id\"] == 1]['customer_id'].value_counts()\n",
    "count_customer_sale_channel_two = transactions_df[transactions_df[\"sales_channel_id\"] == 2]['customer_id'].value_counts()"
   ]
  },
  {
   "cell_type": "code",
   "execution_count": null,
   "metadata": {},
   "outputs": [],
   "source": [
    "# select top 10 customers per each sale channel\n",
    "top_ten_customers_sale_channel_one = count_customer_sale_channel_one[0:10].index\n",
    "top_ten_customers_sale_channel_two = count_customer_sale_channel_two[0:10].index"
   ]
  },
  {
   "cell_type": "code",
   "execution_count": null,
   "metadata": {},
   "outputs": [],
   "source": [
    "# print the result\n",
    "print(f\"Top 10 customers for sale channel 1 : {top_ten_customers_sale_channel_one}\")\n",
    "print(f\"Top 10 customers for sale channel 2 : {top_ten_customers_sale_channel_two}\")"
   ]
  }
 ],
 "metadata": {
  "kernelspec": {
   "display_name": "Python 3",
   "language": "python",
   "name": "python3"
  },
  "language_info": {
   "codemirror_mode": {
    "name": "ipython",
    "version": 3
   },
   "file_extension": ".py",
   "mimetype": "text/x-python",
   "name": "python",
   "nbconvert_exporter": "python",
   "pygments_lexer": "ipython3",
   "version": "3.9.0"
  },
  "orig_nbformat": 4
 },
 "nbformat": 4,
 "nbformat_minor": 2
}
